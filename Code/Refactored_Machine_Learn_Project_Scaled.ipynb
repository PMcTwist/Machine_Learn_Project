{
  "nbformat": 4,
  "nbformat_minor": 0,
  "metadata": {
    "colab": {
      "provenance": []
    },
    "kernelspec": {
      "name": "python3",
      "display_name": "Python 3"
    },
    "language_info": {
      "name": "python"
    }
  },
  "cells": [
    {
      "cell_type": "markdown",
      "source": [
        "### Dependancy Imports"
      ],
      "metadata": {
        "id": "cAgOa605Cxw0"
      }
    },
    {
      "cell_type": "code",
      "execution_count": 46,
      "metadata": {
        "id": "F3xDFaWbCsv7"
      },
      "outputs": [],
      "source": [
        "# Basic imports\n",
        "import pandas as pd\n",
        "import numpy as np\n",
        "import matplotlib.pyplot as plt\n",
        "from datetime import datetime as dt\n",
        "\n",
        "# Specific imports\n",
        "from sklearn.model_selection import train_test_split\n",
        "from sklearn.preprocessing import RobustScaler\n",
        "from sklearn.ensemble import RandomForestRegressor\n",
        "from sklearn.metrics import mean_squared_error\n",
        "from sklearn.metrics import r2_score\n",
        "from sklearn.preprocessing import LabelEncoder\n",
        "from sklearn.model_selection import RandomizedSearchCV"
      ]
    },
    {
      "cell_type": "markdown",
      "source": [
        "### Import Data"
      ],
      "metadata": {
        "id": "O0d2jQjVC2vz"
      }
    },
    {
      "cell_type": "code",
      "source": [
        "# Assign data to variable\n",
        "dataset = pd.read_csv('HousingData.csv')\n",
        "dataset = dataset.head(229)\n",
        "\n",
        "# Convert the date strings into datetime objects\n",
        "dataset['Date'] = pd.to_datetime(dataset['Date'])\n",
        "\n",
        "# Convert Date Features to a number format\n",
        "dataset['Year'] = dataset['Date'].dt.year\n",
        "dataset['Month'] = dataset['Date'].dt.month\n",
        "\n",
        "# Take a small look at the dataframe produced\n",
        "print(dataset.head())\n",
        "print(dataset.shape)"
      ],
      "metadata": {
        "colab": {
          "base_uri": "https://localhost:8080/"
        },
        "id": "FiOD-yHkC5Hx",
        "outputId": "0c37e5bf-48ad-4223-efaf-3c4120a5b3e8"
      },
      "execution_count": 47,
      "outputs": [
        {
          "output_type": "stream",
          "name": "stdout",
          "text": [
            "        Date  Composite_HPI  Single_Family_HPI  One_Storey_HPI  \\\n",
            "0 2005-01-01          100.0              100.0           100.0   \n",
            "1 2005-02-01          101.0              101.0           101.2   \n",
            "2 2005-03-01          102.1              102.1           102.4   \n",
            "3 2005-04-01          103.1              103.2           103.8   \n",
            "4 2005-05-01          103.8              103.8           104.6   \n",
            "\n",
            "   Two_Storey_HPI  Townhouse_HPI  Apartment_HPI  Composite_Benchmark  \\\n",
            "0           100.0          100.0          100.0             237700.0   \n",
            "1           100.9          100.9          101.3             240100.0   \n",
            "2           101.9          101.7          102.3             242600.0   \n",
            "3           102.9          102.5          103.1             245100.0   \n",
            "4           103.4          103.2          104.1             246700.0   \n",
            "\n",
            "   Single_Family_Benchmark  One_Storey_Benchmark  Two_Storey_Benchmark  \\\n",
            "0                 257600.0              205000.0              300000.0   \n",
            "1                 260100.0              207400.0              302700.0   \n",
            "2                 263000.0              210000.0              305700.0   \n",
            "3                 265800.0              212700.0              308600.0   \n",
            "4                 267500.0              214500.0              310100.0   \n",
            "\n",
            "   Townhouse_Benchmark  Apartment_Benchmark  Year  Month  \n",
            "0             199600.0             172400.0  2005      1  \n",
            "1             201400.0             174600.0  2005      2  \n",
            "2             202900.0             176400.0  2005      3  \n",
            "3             204500.0             177800.0  2005      4  \n",
            "4             205900.0             179500.0  2005      5  \n",
            "(229, 15)\n"
          ]
        }
      ]
    },
    {
      "cell_type": "markdown",
      "source": [
        "### Split data in to features"
      ],
      "metadata": {
        "id": "kcRxKA-aC8VB"
      }
    },
    {
      "cell_type": "code",
      "source": [
        "# Split data into X and y sets\n",
        "X = dataset[[\n",
        "    'Single_Family_Benchmark',\n",
        "    'One_Storey_Benchmark',\n",
        "    'Two_Storey_Benchmark',\n",
        "    'Townhouse_Benchmark',\n",
        "    'Apartment_Benchmark'\n",
        "    ]]\n",
        "\n",
        "y = dataset['Composite_Benchmark']"
      ],
      "metadata": {
        "id": "b6C9NXAPC-59"
      },
      "execution_count": 48,
      "outputs": []
    },
    {
      "cell_type": "markdown",
      "source": [
        "### Split the dataset"
      ],
      "metadata": {
        "id": "DPYHh1Z4Dx-d"
      }
    },
    {
      "cell_type": "code",
      "source": [
        "# Set up your sets into train and test variables\n",
        "X_train, X_test, y_train, y_test = train_test_split(\n",
        "    X,\n",
        "    y,\n",
        "    test_size = 0.2,\n",
        "    random_state = 0\n",
        "    )\n",
        "\n",
        "# Show the user a sample of the dataset for reference\n",
        "print(f\"X-train sample: {X_train.head()}\")\n",
        "print(f\"y-train sample: {y_train.head()}\")"
      ],
      "metadata": {
        "colab": {
          "base_uri": "https://localhost:8080/"
        },
        "id": "H_J8fBrWEQqS",
        "outputId": "bf6dbbaa-8dce-44d2-ea03-a3a796f09c44"
      },
      "execution_count": 49,
      "outputs": [
        {
          "output_type": "stream",
          "name": "stdout",
          "text": [
            "X-train sample:      Single_Family_Benchmark  One_Storey_Benchmark  Two_Storey_Benchmark  \\\n",
            "33                  343000.0              284700.0              388500.0   \n",
            "71                  358500.0              283400.0              413900.0   \n",
            "154                 594500.0              442100.0              703900.0   \n",
            "205                 943800.0              722200.0             1099800.0   \n",
            "106                 417300.0              322400.0              486400.0   \n",
            "\n",
            "     Townhouse_Benchmark  Apartment_Benchmark  \n",
            "33              277200.0             239700.0  \n",
            "71              288800.0             251900.0  \n",
            "154             466200.0             402500.0  \n",
            "205             754200.0             567500.0  \n",
            "106             312300.0             266400.0  \n",
            "y-train sample: 33     318700.0\n",
            "71     332600.0\n",
            "154    544400.0\n",
            "205    845400.0\n",
            "106    380900.0\n",
            "Name: Composite_Benchmark, dtype: float64\n"
          ]
        }
      ]
    },
    {
      "cell_type": "markdown",
      "source": [
        "### Feature Scaling"
      ],
      "metadata": {
        "id": "ronOaIBsv-5m"
      }
    },
    {
      "cell_type": "code",
      "source": [
        "# Create an instance of the scaler\n",
        "scaler = RobustScaler()\n",
        "\n",
        "# Initialize empty dataframe for new data\n",
        "X_train_scaled = pd.DataFrame()\n",
        "X_test_scaled = pd.DataFrame()\n",
        "\n",
        "# Initialize a loop to iterate the train columns\n",
        "for col in X_train.columns:\n",
        "  # Skip scaling the year and month but append them still\n",
        "  # if col in ['Year', 'Month']:\n",
        "  #   X_train_scaled[col] = X_train[[col]]\n",
        "  #   X_test_scaled[col] = X_test[[col]]\n",
        "  # else:\n",
        "  # Fit/Transformed column data\n",
        "  col_scaled = scaler.fit_transform(X_train[[col]])\n",
        "\n",
        "  # Append scaled data to empty dataframe\n",
        "  X_train_scaled[col] = col_scaled.flatten()\n",
        "\n",
        "  # Transform test column data\n",
        "  col_scaled_test = scaler.transform(X_test[[col]])\n",
        "\n",
        "  # Append scaled data to empty dataframe\n",
        "  X_test_scaled[col] = col_scaled_test.flatten()\n",
        "\n",
        "print(X_train_scaled)\n",
        "print(X_test_scaled)"
      ],
      "metadata": {
        "colab": {
          "base_uri": "https://localhost:8080/"
        },
        "id": "dZ2DpMOrwA0n",
        "outputId": "0168a941-d72a-48ae-cc83-8e319f424f35"
      },
      "execution_count": 50,
      "outputs": [
        {
          "output_type": "stream",
          "name": "stdout",
          "text": [
            "     Single_Family_Benchmark  One_Storey_Benchmark  Two_Storey_Benchmark  \\\n",
            "0                  -0.355936             -0.291010             -0.375494   \n",
            "1                  -0.292812             -0.299042             -0.291831   \n",
            "2                   0.668296              0.681495              0.663373   \n",
            "3                   2.090817              2.412110              1.967391   \n",
            "4                  -0.053350             -0.058078             -0.053030   \n",
            "..                       ...                   ...                   ...   \n",
            "178                -0.285074             -0.271239             -0.290843   \n",
            "179                 1.002647              1.152302              0.949605   \n",
            "180                 0.042354              0.038307              0.044137   \n",
            "181                -0.448788             -0.416435             -0.458169   \n",
            "182                 0.559967              0.644424              0.537220   \n",
            "\n",
            "     Townhouse_Benchmark  Apartment_Benchmark  \n",
            "0              -0.211635            -0.184257  \n",
            "1              -0.153460            -0.113120  \n",
            "2               0.736209             0.765015  \n",
            "3               2.180542             1.727114  \n",
            "4              -0.035607            -0.028571  \n",
            "..                   ...                  ...  \n",
            "178            -0.144935            -0.113120  \n",
            "179             1.135908             0.972595  \n",
            "180             0.043631             0.031487  \n",
            "181            -0.280341            -0.258309  \n",
            "182             0.803912             0.840233  \n",
            "\n",
            "[183 rows x 5 columns]\n",
            "    Single_Family_Benchmark  One_Storey_Benchmark  Two_Storey_Benchmark  \\\n",
            "0                  0.568112              0.527649              0.578393   \n",
            "1                  1.541438              1.786222              1.446311   \n",
            "2                  0.119731              0.098239              0.128129   \n",
            "3                  0.718387              0.827927              0.685441   \n",
            "4                  0.577072              0.535681              0.587286   \n",
            "5                 -0.125433             -0.134693             -0.123847   \n",
            "6                  1.384647              1.585419              1.316206   \n",
            "7                 -0.205661             -0.211925             -0.205204   \n",
            "8                  1.635105              1.871486              1.555665   \n",
            "9                  0.559967              0.634538              0.539855   \n",
            "10                 0.714722              0.675935              0.724967   \n",
            "11                 0.016290              0.021625              0.014163   \n",
            "12                -0.265934             -0.242200             -0.274704   \n",
            "13                -0.637345             -0.688909             -0.611989   \n",
            "14                 0.232132              0.198332              0.240448   \n",
            "15                 0.560375              0.520235              0.570158   \n",
            "16                -0.065974             -0.063021             -0.068182   \n",
            "17                -0.656485             -0.719184             -0.626482   \n",
            "18                -0.372633             -0.315724             -0.390646   \n",
            "19                 0.690287              0.761199              0.667325   \n",
            "20                 0.557931              0.633302              0.538867   \n",
            "21                -0.039503             -0.040778             -0.040184   \n",
            "22                 1.951537              2.281742              1.828063   \n",
            "23                 1.515781              1.747915              1.432806   \n",
            "24                -0.015068             -0.012357             -0.016798   \n",
            "25                -0.269599             -0.246525             -0.278656   \n",
            "26                 0.675219              0.690763              0.669302   \n",
            "27                -0.336795             -0.272475             -0.356061   \n",
            "28                -0.607616             -0.654310             -0.584321   \n",
            "29                 0.575850              0.533828              0.586298   \n",
            "30                 0.587660              0.669756              0.566206   \n",
            "31                 0.509469              0.475131              0.517787   \n",
            "32                 0.860110              1.001545              0.809947   \n",
            "33                -0.379963             -0.352796             -0.389657   \n",
            "34                -0.108735             -0.110596             -0.110343   \n",
            "35                -0.504582             -0.502317             -0.500000   \n",
            "36                -0.542863             -0.565338             -0.527997   \n",
            "37                 0.636530              0.719802              0.614625   \n",
            "38                -0.643861             -0.698177             -0.617918   \n",
            "39                -0.105070             -0.110596             -0.104414   \n",
            "40                 2.118509              2.446092              1.992754   \n",
            "41                -0.085522             -0.088353             -0.087615   \n",
            "42                 0.805946              0.773556              0.814559   \n",
            "43                 0.404806              0.355267              0.418972   \n",
            "44                 1.675423              1.957986              1.571476   \n",
            "45                 1.704337              1.961075              1.605731   \n",
            "\n",
            "    Townhouse_Benchmark  Apartment_Benchmark  \n",
            "0              0.440822             0.349854  \n",
            "1              1.658977             1.356268  \n",
            "2              0.082247             0.067638  \n",
            "3              0.962387             0.951020  \n",
            "4              0.454363             0.366181  \n",
            "5             -0.084253            -0.060641  \n",
            "6              1.655968             1.455394  \n",
            "7             -0.110331            -0.054227  \n",
            "8              1.843029             1.594169  \n",
            "9              0.775326             0.841399  \n",
            "10             0.585757             0.489213  \n",
            "11             0.010030             0.014577  \n",
            "12            -0.127382            -0.083382  \n",
            "13            -0.533601            -0.495044  \n",
            "14             0.166499             0.131195  \n",
            "15             0.423771             0.341108  \n",
            "16            -0.042126            -0.022157  \n",
            "17            -0.560181            -0.523615  \n",
            "18            -0.205115            -0.187755  \n",
            "19             0.848044             0.900875  \n",
            "20             0.811434             0.864723  \n",
            "21            -0.038616            -0.020991  \n",
            "22             2.187061             1.839067  \n",
            "23             1.798897             1.551020  \n",
            "24            -0.018556            -0.009329  \n",
            "25            -0.129890            -0.086297  \n",
            "26             0.744233             0.752770  \n",
            "27            -0.193581            -0.161516  \n",
            "28            -0.504012            -0.467638  \n",
            "29             0.470411             0.397085  \n",
            "30             0.851555             0.912536  \n",
            "31             0.358074             0.289213  \n",
            "32             1.043631             0.944606  \n",
            "33            -0.243230            -0.196501  \n",
            "34            -0.074724            -0.029738  \n",
            "35            -0.377131            -0.356268  \n",
            "36            -0.442828            -0.409913  \n",
            "37             0.891174             0.970845  \n",
            "38            -0.542126            -0.513703  \n",
            "39            -0.074724            -0.044315  \n",
            "40             2.269809             1.841399  \n",
            "41            -0.051655            -0.009329  \n",
            "42             0.652457             0.574344  \n",
            "43             0.266299             0.223324  \n",
            "44             1.980441             1.689796  \n",
            "45             1.812437             1.455394  \n"
          ]
        }
      ]
    },
    {
      "cell_type": "markdown",
      "source": [
        "### Setup Basic Model"
      ],
      "metadata": {
        "id": "6-ra1oSvFQAD"
      }
    },
    {
      "cell_type": "code",
      "source": [
        "# Plant the seeds to grow a basic forest\n",
        "forest_model = RandomForestRegressor(random_state = 0)"
      ],
      "metadata": {
        "id": "V4xx31WXFSA7"
      },
      "execution_count": 51,
      "outputs": []
    },
    {
      "cell_type": "markdown",
      "source": [
        "### Hyper Parameters"
      ],
      "metadata": {
        "id": "J3lY-4ikFInW"
      }
    },
    {
      "cell_type": "code",
      "source": [
        "# Setup parameters\n",
        "param_dist = {'n_estimators': [\n",
        "    50,\n",
        "    100,\n",
        "    150,\n",
        "    200,\n",
        "    250,\n",
        "    300,\n",
        "    350,\n",
        "    400,\n",
        "    450,\n",
        "    500,\n",
        "    550,\n",
        "    600,\n",
        "    650,\n",
        "    700,\n",
        "    750\n",
        "    ]}\n",
        "\n",
        "# Initialize the random search\n",
        "random_search = RandomizedSearchCV(\n",
        "    estimator = forest_model,\n",
        "    param_distributions = param_dist,\n",
        "    n_iter = 15,\n",
        "    cv = 5,\n",
        "    scoring = 'neg_mean_squared_error',\n",
        "    random_state = 0\n",
        ")\n",
        "\n",
        "# Fit the model\n",
        "random_search.fit(X_train_scaled, y_train)\n",
        "\n",
        "# Store the best selection for later\n",
        "selected_params = random_search.best_params_\n",
        "\n",
        "# Show the user the best parameter\n",
        "print(f\"Selected Param: {selected_params}\")"
      ],
      "metadata": {
        "colab": {
          "base_uri": "https://localhost:8080/"
        },
        "id": "9UiXqP6MFLNU",
        "outputId": "0442fb8f-4bce-4fbe-8ef7-9dc57ba6d589"
      },
      "execution_count": 52,
      "outputs": [
        {
          "output_type": "stream",
          "name": "stdout",
          "text": [
            "Selected Param: {'n_estimators': 50}\n"
          ]
        }
      ]
    },
    {
      "cell_type": "markdown",
      "source": [
        "### Final Model Set up"
      ],
      "metadata": {
        "id": "-VHyDkhYGgda"
      }
    },
    {
      "cell_type": "code",
      "source": [
        "# Re-Initialize Random Forest using the selected Params\n",
        "final_forest = RandomForestRegressor(\n",
        "    n_estimators = selected_params['n_estimators'],\n",
        "    random_state = 0\n",
        ")\n",
        "\n",
        "# Fit data to the new model\n",
        "final_forest.fit(X_train_scaled, y_train)\n",
        "\n",
        "# Make prediction to get a score to check\n",
        "score_predict = final_forest.predict(X_test_scaled)"
      ],
      "metadata": {
        "id": "WsDwMAUHGjDO"
      },
      "execution_count": 53,
      "outputs": []
    },
    {
      "cell_type": "markdown",
      "source": [
        "### Scoring"
      ],
      "metadata": {
        "id": "ygb03VUgXQFW"
      }
    },
    {
      "cell_type": "code",
      "source": [
        "# Pass in your y test data and check it against your y predicted data\n",
        "mse = mean_squared_error(y_test, score_predict)\n",
        "\n",
        "# Calculate R-squared\n",
        "r_squared = r2_score(y_test, score_predict)\n",
        "\n",
        "# Share with the world!\n",
        "print(f\"Mean Squared Error: {mse}\")\n",
        "print(f\"R-Squared Error: {r_squared}\")"
      ],
      "metadata": {
        "colab": {
          "base_uri": "https://localhost:8080/"
        },
        "id": "GcqrogvgXR_4",
        "outputId": "0c97f3cf-6fa4-459b-cea6-ead7a65c328b"
      },
      "execution_count": 54,
      "outputs": [
        {
          "output_type": "stream",
          "name": "stdout",
          "text": [
            "Mean Squared Error: 18697681.04347826\n",
            "R-Squared Error: 0.9993086327577407\n"
          ]
        }
      ]
    },
    {
      "cell_type": "markdown",
      "source": [
        "### Create Future Data"
      ],
      "metadata": {
        "id": "4Wo7sjqUHMZE"
      }
    },
    {
      "cell_type": "code",
      "source": [
        "# Create a dataset for future dates\n",
        "future_dates = pd.date_range(start='2024-01-01', periods=120, freq='M')\n",
        "future_data = pd.DataFrame({'Date': future_dates})\n",
        "\n",
        "# Create future dataset with date features\n",
        "future_data['Year'] = future_data['Date'].dt.year\n",
        "future_data['Month'] = future_data['Date'].dt.month\n",
        "\n",
        "# Add the old data to the new set\n",
        "future_data['Composite_HPI'] = dataset['Composite_HPI']\n",
        "future_data['Single_Family_Benchmark'] = dataset['Single_Family_Benchmark']\n",
        "future_data['One_Storey_Benchmark'] = dataset['One_Storey_Benchmark']\n",
        "future_data['Two_Storey_Benchmark'] = dataset['Two_Storey_Benchmark']\n",
        "future_data['Townhouse_Benchmark'] = dataset['Townhouse_Benchmark']\n",
        "future_data['Apartment_Benchmark'] = dataset['Apartment_Benchmark']\n",
        "\n",
        "# Grab features for prediction\n",
        "features_for_prediction = future_data[[\n",
        "    'Single_Family_Benchmark',\n",
        "    'One_Storey_Benchmark',\n",
        "    'Two_Storey_Benchmark',\n",
        "    'Townhouse_Benchmark',\n",
        "    'Apartment_Benchmark'\n",
        "    ]]\n",
        "\n",
        "scaled_features_for_prediction = scaler.transform(features_for_prediction)\n",
        "\n",
        "# Print a sample of the normalized future dataset\n",
        "print(f\"Normalized Future Data:\\n {features_for_prediction.head()}\")\n",
        "print(f\"Normalized Future Data:\\n {scaled_features_for_prediction}\")"
      ],
      "metadata": {
        "colab": {
          "base_uri": "https://localhost:8080/"
        },
        "id": "_HXzmqbYHPL9",
        "outputId": "be65f71f-c035-4ed1-d5ed-c504b6cc457f"
      },
      "execution_count": 64,
      "outputs": [
        {
          "output_type": "stream",
          "name": "stdout",
          "text": [
            "Normalized Future Data:\n",
            "    Single_Family_Benchmark  One_Storey_Benchmark  Two_Storey_Benchmark  \\\n",
            "0                 257600.0              205000.0              300000.0   \n",
            "1                 260100.0              207400.0              302700.0   \n",
            "2                 263000.0              210000.0              305700.0   \n",
            "3                 265800.0              212700.0              308600.0   \n",
            "4                 267500.0              214500.0              310100.0   \n",
            "\n",
            "   Townhouse_Benchmark  Apartment_Benchmark  \n",
            "0             199600.0             172400.0  \n",
            "1             201400.0             174600.0  \n",
            "2             202900.0             176400.0  \n",
            "3             204500.0             177800.0  \n",
            "4             205900.0             179500.0  \n",
            "Normalized Future Data:\n",
            " [[-1.1504914  -1.69046378 -0.98140546 -2.01420959 -1.9075    ]\n",
            " [-1.11977887 -1.64043773 -0.9553248  -1.97158082 -1.8525    ]\n",
            " [-1.08415233 -1.58624283 -0.92634629 -1.93605684 -1.8075    ]\n",
            " [-1.0497543  -1.52996352 -0.89833374 -1.89816459 -1.7725    ]\n",
            " [-1.02886978 -1.49244398 -0.88384448 -1.86500888 -1.73      ]\n",
            " [-1.00798526 -1.47368421 -0.86259358 -1.82238011 -1.68      ]\n",
            " [-0.99447174 -1.43824909 -0.85679787 -1.77975133 -1.65      ]\n",
            " [-0.96990172 -1.40281397 -0.83747887 -1.73712256 -1.6375    ]\n",
            " [-0.9502457  -1.37154768 -0.82009177 -1.69686205 -1.5575    ]\n",
            " [-0.93181818 -1.35695675 -0.80077276 -1.67081113 -1.5525    ]\n",
            " [-0.92076167 -1.33819698 -0.79207921 -1.64712848 -1.535     ]\n",
            " [-0.91707617 -1.32569046 -0.79207921 -1.63055062 -1.515     ]\n",
            " [-0.86056511 -1.25482022 -0.73895194 -1.5571344  -1.44      ]\n",
            " [-0.79914005 -1.15893695 -0.68872253 -1.45766726 -1.355     ]\n",
            " [-0.73525799 -1.06096925 -0.63462932 -1.37477798 -1.2825    ]\n",
            " [-0.66523342 -0.95466389 -0.57377445 -1.26820604 -1.1925    ]\n",
            " [-0.60749386 -0.85461178 -0.53127264 -1.14979278 -1.1       ]\n",
            " [-0.56572482 -0.78374153 -0.49746438 -1.02664298 -1.03      ]\n",
            " [-0.5497543  -0.74205315 -0.49166868 -0.95796329 -0.9625    ]\n",
            " [-0.52272727 -0.69828035 -0.46945182 -0.87744227 -0.9025    ]\n",
            " [-0.49692875 -0.66701407 -0.44337117 -0.83955003 -0.835     ]\n",
            " [-0.50552826 -0.66909849 -0.45496257 -0.79692126 -0.8425    ]\n",
            " [-0.50552826 -0.66909849 -0.45496257 -0.79455299 -0.855     ]\n",
            " [-0.50798526 -0.64408546 -0.46848587 -0.75902901 -0.8425    ]\n",
            " [-0.46130221 -0.58572173 -0.42405216 -0.7187685  -0.77      ]\n",
            " [-0.38513514 -0.47316311 -0.35836754 -0.63824748 -0.695     ]\n",
            " [-0.32493857 -0.37102658 -0.31296788 -0.52930728 -0.6       ]\n",
            " [-0.26228501 -0.28139656 -0.25597682 -0.45352279 -0.51      ]\n",
            " [-0.19963145 -0.17300677 -0.20864525 -0.35879218 -0.43      ]\n",
            " [-0.1541769  -0.09796769 -0.17387105 -0.27827117 -0.355     ]\n",
            " [-0.13697789 -0.05836373 -0.16324559 -0.23801066 -0.305     ]\n",
            " [-0.12100737 -0.04168838 -0.14682444 -0.18827709 -0.2725    ]\n",
            " [-0.10135135 -0.02292861 -0.12653948 -0.18117229 -0.235     ]\n",
            " [-0.10135135 -0.02918187 -0.12653948 -0.17643576 -0.225     ]\n",
            " [-0.10995086 -0.05211047 -0.12943733 -0.18117229 -0.2175    ]\n",
            " [-0.12100737 -0.0771235  -0.13716494 -0.1669627  -0.2025    ]\n",
            " [-0.08169533 -0.02709745 -0.10045883 -0.13143872 -0.1575    ]\n",
            " [-0.04361179  0.0333507  -0.06954842 -0.09117821 -0.1275    ]\n",
            " [-0.01781327  0.08337676 -0.05216131 -0.04618117 -0.0725    ]\n",
            " [-0.01044226  0.09171443 -0.04443371 -0.00592066 -0.0625    ]\n",
            " [-0.01658477  0.08546118 -0.05216131  0.00592066 -0.07      ]\n",
            " [-0.03378378  0.05836373 -0.06761652 -0.00592066 -0.095     ]\n",
            " [-0.08292383 -0.00208442 -0.11591403 -0.04854944 -0.14      ]\n",
            " [-0.11609337 -0.04794164 -0.14489254 -0.09591474 -0.19      ]\n",
            " [-0.1517199  -0.11255862 -0.17097319 -0.14564831 -0.24      ]\n",
            " [-0.22788698 -0.22094841 -0.23955566 -0.23564239 -0.3475    ]\n",
            " [-0.29422604 -0.34392913 -0.28785318 -0.33984606 -0.4575    ]\n",
            " [-0.38144963 -0.45231892 -0.368993   -0.5008881  -0.5425    ]\n",
            " [-0.40233415 -0.49192288 -0.38541415 -0.53167555 -0.64      ]\n",
            " [-0.41461916 -0.50026055 -0.39893745 -0.55298993 -0.645     ]\n",
            " [-0.41584767 -0.5169359  -0.3941077  -0.57667259 -0.6325    ]\n",
            " [-0.37407862 -0.45648775 -0.36126539 -0.55772647 -0.57      ]\n",
            " [-0.32248157 -0.39812402 -0.31103598 -0.51983422 -0.5125    ]\n",
            " [-0.27088452 -0.34809797 -0.25984062 -0.47246892 -0.4275    ]\n",
            " [-0.22420147 -0.28348098 -0.22023666 -0.38957963 -0.3525    ]\n",
            " [-0.17383292 -0.23762376 -0.16807534 -0.32563647 -0.2775    ]\n",
            " [-0.12346437 -0.1980198  -0.11301618 -0.25222025 -0.1975    ]\n",
            " [-0.07800983 -0.14590933 -0.06954842 -0.19538188 -0.1375    ]\n",
            " [-0.0460688  -0.12923398 -0.03284231 -0.15038484 -0.075     ]\n",
            " [-0.03624079 -0.11255862 -0.02511471 -0.10065127 -0.045     ]\n",
            " [ 0.01044226 -0.07295466  0.02511471 -0.01776199  0.045     ]\n",
            " [ 0.07555283  0.00625326  0.08693552  0.04618117  0.1       ]\n",
            " [ 0.12714988  0.07295466  0.13233518  0.12907046  0.165     ]\n",
            " [ 0.15909091  0.1208963   0.15744989  0.20959147  0.195     ]\n",
            " [ 0.17014742  0.13548723  0.16904129  0.2214328   0.2075    ]\n",
            " [ 0.1504914   0.09588327  0.15358609  0.2285376   0.1675    ]\n",
            " [ 0.12714988  0.07503908  0.12847138  0.17169923  0.115     ]\n",
            " [ 0.11240786  0.03751954  0.12170973  0.13854352  0.08      ]\n",
            " [ 0.09766585  0.00208442  0.11301618  0.12433393  0.0875    ]\n",
            " [ 0.09520885 -0.00416884  0.11011833  0.09591474  0.095     ]\n",
            " [ 0.09520885 -0.0333507   0.12074378  0.08170515  0.08      ]\n",
            " [ 0.08906634 -0.05627931  0.11881188  0.09828301  0.08      ]\n",
            " [ 0.13943489 -0.01667535  0.17387105  0.10301954  0.1375    ]\n",
            " [ 0.22174447  0.08546118  0.25018112  0.18590882  0.22      ]\n",
            " [ 0.29176904  0.17092236  0.31393383  0.25222025  0.2775    ]\n",
            " [ 0.3519656   0.23762376  0.3728568   0.30195382  0.3325    ]\n",
            " [ 0.40970516  0.30224075  0.42791596  0.3374778   0.3625    ]\n",
            " [ 0.44164619  0.32725378  0.46172422  0.35168739  0.4       ]\n",
            " [ 0.45761671  0.33767587  0.47911133  0.39431616  0.405     ]\n",
            " [ 0.47358722  0.33767587  0.49939628  0.43220841  0.4225    ]\n",
            " [ 0.48341523  0.34601355  0.51002173  0.42984014  0.4225    ]\n",
            " [ 0.49078624  0.33976029  0.51968124  0.42984014  0.4       ]\n",
            " [ 0.49201474  0.34601355  0.51968124  0.42984014  0.4075    ]\n",
            " [ 0.49570025  0.35643564  0.52161314  0.38010657  0.385     ]\n",
            " [ 0.54115479  0.41271496  0.563149    0.38247484  0.41      ]\n",
            " [ 0.60995086  0.46690985  0.63752717  0.47246892  0.4675    ]\n",
            " [ 0.67137592  0.56696196  0.68485873  0.51509769  0.4975    ]\n",
            " [ 0.72051597  0.6378322   0.72929244  0.55772647  0.54      ]\n",
            " [ 0.73280098  0.681605    0.73315624  0.57904085  0.545     ]\n",
            " [ 0.71437346  0.65450756  0.71770104  0.57904085  0.525     ]\n",
            " [ 0.69348894  0.62949453  0.70031393  0.53878034  0.4725    ]\n",
            " [ 0.66154791  0.60031266  0.66843758  0.49851983  0.45      ]\n",
            " [ 0.64434889  0.57946847  0.65105047  0.47010065  0.4375    ]\n",
            " [ 0.61732187  0.53986451  0.62979957  0.45589106  0.3925    ]\n",
            " [ 0.58660934  0.50026055  0.60082106  0.42036708  0.3275    ]\n",
            " [ 0.58169533  0.49817613  0.59502536  0.41563055  0.2975    ]\n",
            " [ 0.59398034  0.49817613  0.61144651  0.42510361  0.305     ]\n",
            " [ 0.65540541  0.57946847  0.66843758  0.47010065  0.375     ]\n",
            " [ 0.69717445  0.64616988  0.70321178  0.51272943  0.42      ]\n",
            " [ 0.74385749  0.6920271   0.7515093   0.5482534   0.43      ]\n",
            " [ 0.76474201  0.71912454  0.76986235  0.6098283   0.4675    ]\n",
            " [ 0.77334152  0.73996873  0.7746921   0.62403789  0.47      ]\n",
            " [ 0.78071253  0.74622199  0.78145376  0.60272351  0.4575    ]\n",
            " [ 0.78562654  0.73996873  0.79111326  0.59798697  0.47      ]\n",
            " [ 0.80036855  0.77957269  0.79690896  0.64298401  0.47      ]\n",
            " [ 0.80896806  0.76498176  0.81236416  0.64535228  0.4525    ]\n",
            " [ 0.81142506  0.75664409  0.81912582  0.65482534  0.4425    ]\n",
            " [ 0.80896806  0.75664409  0.81622796  0.64061575  0.4225    ]\n",
            " [ 0.8531941   0.81500782  0.85679787  0.64061575  0.475     ]\n",
            " [ 0.92690418  0.91089109  0.92538034  0.73534636  0.525     ]\n",
            " [ 0.97235872  0.95257947  0.97464381  0.82297217  0.565     ]\n",
            " [ 1.02149877  1.02553413  1.01617967  0.87033748  0.6275    ]\n",
            " [ 1.05589681  1.05888484  1.05095388  0.91770278  0.6275    ]\n",
            " [ 1.07432432  1.09015112  1.06640908  0.96033156  0.67      ]\n",
            " [ 1.07678133  1.08181344  1.07220478  0.95322676  0.65      ]\n",
            " [ 1.08046683  1.07556019  1.07800048  0.99111901  0.6575    ]\n",
            " [ 1.09520885  1.09015112  1.09442164  1.00769686  0.68      ]\n",
            " [ 1.10012285  1.08181344  1.10408114  1.02901125  0.7       ]\n",
            " [ 1.10749386  1.06096925  1.11953634  1.02190645  0.73      ]\n",
            " [ 1.11363636  1.054716    1.1301618   0.95322676  0.7       ]]\n"
          ]
        }
      ]
    },
    {
      "cell_type": "markdown",
      "source": [
        "### Predict Outcome"
      ],
      "metadata": {
        "id": "a_YibEsHINFD"
      }
    },
    {
      "cell_type": "code",
      "source": [
        "# Predict future prices\n",
        "future_predictions = final_forest.predict(scaled_features_for_prediction)\n",
        "\n",
        "print(future_predictions)\n",
        "\n",
        "# # Add predicted prices to future_data\n",
        "future_data['Composite_Benchmark_Predicted'] = future_predictions[0:120]"
      ],
      "metadata": {
        "colab": {
          "base_uri": "https://localhost:8080/"
        },
        "id": "XUaVLvuzITjf",
        "outputId": "88505c5d-d9c9-4b47-b023-37fff0229278"
      },
      "execution_count": 65,
      "outputs": [
        {
          "output_type": "stream",
          "name": "stdout",
          "text": [
            "[239284. 239284. 239284. 239284. 239284. 239284. 239284. 239284. 239284.\n",
            " 239284. 239284. 239284. 239284. 239284. 240598. 246848. 249406. 256688.\n",
            " 258602. 263254. 268186. 265316. 265316. 264648. 275362. 287488. 295502.\n",
            " 304724. 329516. 338616. 344088. 346490. 349328. 348216. 348194. 347894.\n",
            " 352106. 369582. 382854. 390814. 386836. 373954. 367486. 356086. 344684.\n",
            " 328688. 307996. 290656. 287082. 284910. 283580. 288538. 295642. 303234.\n",
            " 322270. 336006. 346800. 350286. 358844. 375244. 390944. 408358. 423670.\n",
            " 435268. 435898. 431860. 425770. 416810. 414628. 413596. 407108. 408038.\n",
            " 417652. 436596. 458454. 467496. 483412. 488856. 491868. 495014. 495014.\n",
            " 494630. 494630. 491246. 504932. 515306. 530738. 536118. 550760. 534298.\n",
            " 531454. 531102. 529038. 516496. 510516. 507652. 510694. 527198. 532582.\n",
            " 553760. 561342. 564114. 564428. 564208. 566692. 564406. 565176. 565176.\n",
            " 573652. 588682. 591116. 601098. 603644. 610746. 610746. 609316. 612210.\n",
            " 614206. 612776. 612530.]\n"
          ]
        },
        {
          "output_type": "stream",
          "name": "stderr",
          "text": [
            "/usr/local/lib/python3.10/dist-packages/sklearn/base.py:439: UserWarning: X does not have valid feature names, but RandomForestRegressor was fitted with feature names\n",
            "  warnings.warn(\n"
          ]
        }
      ]
    },
    {
      "cell_type": "markdown",
      "source": [
        "### Graphs"
      ],
      "metadata": {
        "id": "MmZ1Rys8Id9P"
      }
    },
    {
      "cell_type": "code",
      "source": [
        "# Plot the predicted Composite Benchmark prices over time\n",
        "plt.plot(\n",
        "    future_data['Date'],\n",
        "    future_data['Composite_Benchmark_Predicted'],\n",
        "    label='Predicted Prices'\n",
        "    )\n",
        "\n",
        "# Set up the axis\n",
        "plt.xlabel('Year')\n",
        "plt.ylabel('Predicted Prices')\n",
        "plt.title('Next Ten Years Predicted Composite Benchmark Prices')\n",
        "\n",
        "# Make the graph look nice\n",
        "plt.tight_layout()\n",
        "plt.legend()\n",
        "plt.grid(True)\n",
        "\n",
        "# Save the graph for a rainy day\n",
        "plt.savefig('PredictionGraph.svg', format='svg', bbox_inches='tight')\n",
        "\n",
        "# Display the graph to the end user\n",
        "plt.show()"
      ],
      "metadata": {
        "colab": {
          "base_uri": "https://localhost:8080/",
          "height": 487
        },
        "id": "FvB9BpccIgA-",
        "outputId": "b443b31d-7faa-4025-abce-0baf18b26cc3"
      },
      "execution_count": 66,
      "outputs": [
        {
          "output_type": "display_data",
          "data": {
            "text/plain": [
              "<Figure size 640x480 with 1 Axes>"
            ],
            "image/png": "[encoded data removed]"
          },
          "metadata": {}
        }
      ]
    }
  ]
}