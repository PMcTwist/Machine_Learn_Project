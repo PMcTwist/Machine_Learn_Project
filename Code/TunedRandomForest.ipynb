{
  "nbformat": 4,
  "nbformat_minor": 0,
  "metadata": {
    "colab": {
      "provenance": []
    },
    "kernelspec": {
      "name": "python3",
      "display_name": "Python 3"
    },
    "language_info": {
      "name": "python"
    }
  },
  "cells": [
    {
      "cell_type": "markdown",
      "source": [
        "Import Libraries"
      ],
      "metadata": {
        "id": "FVSLrnB4V58Y"
      }
    },
    {
      "cell_type": "code",
      "execution_count": 81,
      "metadata": {
        "id": "Wwbpq9xyVxru"
      },
      "outputs": [],
      "source": [
        "# basic imports\n",
        "import pandas as pd\n",
        "import numpy as np\n",
        "import matplotlib.pyplot as plt\n",
        "from datetime import datetime\n",
        "\n",
        "# specific imports\n",
        "from sklearn.model_selection import train_test_split\n",
        "from sklearn.ensemble import RandomForestRegressor\n",
        "from sklearn.metrics import mean_squared_error\n",
        "from sklearn.preprocessing import LabelEncoder\n",
        "from sklearn.model_selection import RandomizedSearchCV"
      ]
    },
    {
      "cell_type": "markdown",
      "source": [
        "Import Dataset"
      ],
      "metadata": {
        "id": "_xWO0NeGWGEb"
      }
    },
    {
      "cell_type": "code",
      "source": [
        "# Assign data to variable\n",
        "dataset = pd.read_csv('combinedData.csv')\n",
        "\n",
        "# Take a small look at the dataframe produced\n",
        "print(dataset.head())"
      ],
      "metadata": {
        "id": "A2InakXNWIvt",
        "colab": {
          "base_uri": "https://localhost:8080/"
        },
        "outputId": "4d74a6ac-1df8-496c-9903-f8af7430d3df"
      },
      "execution_count": 82,
      "outputs": [
        {
          "output_type": "stream",
          "name": "stdout",
          "text": [
            "   January 2008  February 2008  March 2008  April 2008  May 2008  June 2008  \\\n",
            "0         86.10          86.30        86.4        86.3     86.20       86.3   \n",
            "1          6.81           6.72         6.6         6.4      6.21        6.2   \n",
            "2        119.20         119.60       120.1       121.2    121.60      122.3   \n",
            "\n",
            "   July 2008  August 2008  September 2008  October 2008  ...  March 2023  \\\n",
            "0      86.30        86.30           86.30         85.60  ...      128.40   \n",
            "1       6.37         6.25            6.16          6.46  ...        5.81   \n",
            "2     123.30       123.80          123.10        123.20  ...      168.90   \n",
            "\n",
            "   April 2023  May 2023  June 2023  July 2023  August 2023  September 2023  \\\n",
            "0      128.20    128.30     128.30     128.20       128.10          127.80   \n",
            "1        5.75      5.74       5.85       5.99         6.17            6.27   \n",
            "2      169.90    170.60     171.40     172.60       174.00          174.80   \n",
            "\n",
            "   October 2023  November 2023  December 2023  \n",
            "0        127.60         127.20         127.20  \n",
            "1          6.42           6.47           6.39  \n",
            "2        176.30         177.10         177.80  \n",
            "\n",
            "[3 rows x 192 columns]\n"
          ]
        }
      ]
    },
    {
      "cell_type": "markdown",
      "source": [
        "Preprocess Data (normalize it!)"
      ],
      "metadata": {
        "id": "seTtI-N0W-lo"
      }
    },
    {
      "cell_type": "code",
      "source": [
        "# Convert the date strings into datetime objects\n",
        "converted_dates = []\n",
        "\n",
        "for date in dataset.columns:\n",
        "  datetime_object = datetime.strptime(date, '%B %Y')\n",
        "  converted_dates.append(datetime_object.timestamp())\n",
        "\n",
        "dates_array = np.array(converted_dates)"
      ],
      "metadata": {
        "id": "B-einCIaXCDB"
      },
      "execution_count": 83,
      "outputs": []
    },
    {
      "cell_type": "markdown",
      "source": [
        "Encode Catagorical data"
      ],
      "metadata": {
        "id": "_gfvWrNMXDRj"
      }
    },
    {
      "cell_type": "code",
      "source": [
        "# Initialize the encoder to work with\n",
        "label_encoder = LabelEncoder()\n",
        "\n",
        "print(dataset.iloc[0])\n",
        "\n",
        "# Fit the data needed to the encoder for later use\n",
        "label_encoder.fit(dataset.iloc[0])\n",
        "\n",
        "dataset.iloc[1] = label_encoder.transform(dataset.iloc[0])"
      ],
      "metadata": {
        "id": "R3Plud-qXLT1",
        "colab": {
          "base_uri": "https://localhost:8080/"
        },
        "outputId": "02c4487d-0ba4-40c9-ba94-963bad34e4e9"
      },
      "execution_count": 84,
      "outputs": [
        {
          "output_type": "stream",
          "name": "stdout",
          "text": [
            "January 2008       86.1\n",
            "February 2008      86.3\n",
            "March 2008         86.4\n",
            "April 2008         86.3\n",
            "May 2008           86.2\n",
            "                  ...  \n",
            "August 2023       128.1\n",
            "September 2023    127.8\n",
            "October 2023      127.6\n",
            "November 2023     127.2\n",
            "December 2023     127.2\n",
            "Name: 0, Length: 192, dtype: float64\n"
          ]
        }
      ]
    },
    {
      "cell_type": "markdown",
      "source": [
        "Split data into X and y sets"
      ],
      "metadata": {
        "id": "66FXpljcXqCd"
      }
    },
    {
      "cell_type": "code",
      "source": [
        "# define X and y variables\n",
        "X = dates_array\n",
        "y = dataset.iloc[0].values\n",
        "\n",
        "# varify the split data\n",
        "print(f\"X dataset example: {X[0]}\")\n",
        "print(f\"y dataset example: {y[0]}\")"
      ],
      "metadata": {
        "id": "FhGrnHNtXuH8",
        "colab": {
          "base_uri": "https://localhost:8080/"
        },
        "outputId": "adeca0e8-abf8-4ff8-fb51-69245aa083fd"
      },
      "execution_count": 85,
      "outputs": [
        {
          "output_type": "stream",
          "name": "stdout",
          "text": [
            "X dataset example: 1199145600.0\n",
            "y dataset example: 86.1\n"
          ]
        }
      ]
    },
    {
      "cell_type": "markdown",
      "source": [
        "Break data into Training and Test sets"
      ],
      "metadata": {
        "id": "O8qAPthZaIdR"
      }
    },
    {
      "cell_type": "code",
      "source": [
        "# Split into 4 specific variables\n",
        "X_train, X_test, y_train, y_test = train_test_split(X, y, test_size=0.2, random_state=42)\n",
        "\n",
        "X_train = X_train.reshape(-1, 1)\n",
        "X_test = X_test.reshape(-1, 1)"
      ],
      "metadata": {
        "id": "RBUg6yYhaLn1"
      },
      "execution_count": 86,
      "outputs": []
    },
    {
      "cell_type": "markdown",
      "source": [
        "Setup hyperparameters"
      ],
      "metadata": {
        "id": "lJ0Qygsto3ki"
      }
    },
    {
      "cell_type": "code",
      "source": [
        "# Define the parameter distribution\n",
        "param_dist = {\n",
        "    'n_estimators': [50, 100, 150, 200]\n",
        "}"
      ],
      "metadata": {
        "id": "M8N4VYh4o87K"
      },
      "execution_count": 87,
      "outputs": []
    },
    {
      "cell_type": "markdown",
      "source": [
        "Instatiate the model"
      ],
      "metadata": {
        "id": "D5n-23ETa-a_"
      }
    },
    {
      "cell_type": "code",
      "source": [
        "# plant the seeds to grow a forest\n",
        "forest_model = RandomForestRegressor(random_state=0)\n",
        "\n",
        "# Initiate the random search\n",
        "random_search = RandomizedSearchCV(\n",
        "    estimator = forest_model,  # use the model we created above\n",
        "    param_distributions = param_dist,  # use the params we defined above\n",
        "    n_iter = 10,  # Go over it 10 times\n",
        "    cv = 5,  # Cross validation iterations\n",
        "    scoring = 'neg_mean_squared_error',  # score output for performance\n",
        "    random_state = 0\n",
        "    )"
      ],
      "metadata": {
        "id": "SDbmURrrbA7e"
      },
      "execution_count": 88,
      "outputs": []
    },
    {
      "cell_type": "markdown",
      "source": [
        "Train the model"
      ],
      "metadata": {
        "id": "KIZsCg6QbNz-"
      }
    },
    {
      "cell_type": "code",
      "source": [
        "# Not tuned fit\n",
        "forest_model.fit(X_train, y_train)\n",
        "\n",
        "# call your model and pass in the training datasets\n",
        "random_search.fit(X_train, y_train)  # Use the random_search now instead of forest object"
      ],
      "metadata": {
        "id": "pq0SWJokbQ51",
        "colab": {
          "base_uri": "https://localhost:8080/",
          "height": 174
        },
        "outputId": "4c960e2f-da4f-423f-bf1f-2c2b077582e0"
      },
      "execution_count": 89,
      "outputs": [
        {
          "output_type": "stream",
          "name": "stderr",
          "text": [
            "/usr/local/lib/python3.10/dist-packages/sklearn/model_selection/_search.py:305: UserWarning: The total space of parameters 4 is smaller than n_iter=10. Running 4 iterations. For exhaustive searches, use GridSearchCV.\n",
            "  warnings.warn(\n"
          ]
        },
        {
          "output_type": "execute_result",
          "data": {
            "text/plain": [
              "RandomizedSearchCV(cv=5, estimator=RandomForestRegressor(random_state=0),\n",
              "                   param_distributions={'n_estimators': [50, 100, 150, 200]},\n",
              "                   random_state=0, scoring='neg_mean_squared_error')"
            ],
            "text/html": [
              "<style>#sk-container-id-7 {color: black;background-color: white;}#sk-container-id-7 pre{padding: 0;}#sk-container-id-7 div.sk-toggleable {background-color: white;}#sk-container-id-7 label.sk-toggleable__label {cursor: pointer;display: block;width: 100%;margin-bottom: 0;padding: 0.3em;box-sizing: border-box;text-align: center;}#sk-container-id-7 label.sk-toggleable__label-arrow:before {content: \"▸\";float: left;margin-right: 0.25em;color: #696969;}#sk-container-id-7 label.sk-toggleable__label-arrow:hover:before {color: black;}#sk-container-id-7 div.sk-estimator:hover label.sk-toggleable__label-arrow:before {color: black;}#sk-container-id-7 div.sk-toggleable__content {max-height: 0;max-width: 0;overflow: hidden;text-align: left;background-color: #f0f8ff;}#sk-container-id-7 div.sk-toggleable__content pre {margin: 0.2em;color: black;border-radius: 0.25em;background-color: #f0f8ff;}#sk-container-id-7 input.sk-toggleable__control:checked~div.sk-toggleable__content {max-height: 200px;max-width: 100%;overflow: auto;}#sk-container-id-7 input.sk-toggleable__control:checked~label.sk-toggleable__label-arrow:before {content: \"▾\";}#sk-container-id-7 div.sk-estimator input.sk-toggleable__control:checked~label.sk-toggleable__label {background-color: #d4ebff;}#sk-container-id-7 div.sk-label input.sk-toggleable__control:checked~label.sk-toggleable__label {background-color: #d4ebff;}#sk-container-id-7 input.sk-hidden--visually {border: 0;clip: rect(1px 1px 1px 1px);clip: rect(1px, 1px, 1px, 1px);height: 1px;margin: -1px;overflow: hidden;padding: 0;position: absolute;width: 1px;}#sk-container-id-7 div.sk-estimator {font-family: monospace;background-color: #f0f8ff;border: 1px dotted black;border-radius: 0.25em;box-sizing: border-box;margin-bottom: 0.5em;}#sk-container-id-7 div.sk-estimator:hover {background-color: #d4ebff;}#sk-container-id-7 div.sk-parallel-item::after {content: \"\";width: 100%;border-bottom: 1px solid gray;flex-grow: 1;}#sk-container-id-7 div.sk-label:hover label.sk-toggleable__label {background-color: #d4ebff;}#sk-container-id-7 div.sk-serial::before {content: \"\";position: absolute;border-left: 1px solid gray;box-sizing: border-box;top: 0;bottom: 0;left: 50%;z-index: 0;}#sk-container-id-7 div.sk-serial {display: flex;flex-direction: column;align-items: center;background-color: white;padding-right: 0.2em;padding-left: 0.2em;position: relative;}#sk-container-id-7 div.sk-item {position: relative;z-index: 1;}#sk-container-id-7 div.sk-parallel {display: flex;align-items: stretch;justify-content: center;background-color: white;position: relative;}#sk-container-id-7 div.sk-item::before, #sk-container-id-7 div.sk-parallel-item::before {content: \"\";position: absolute;border-left: 1px solid gray;box-sizing: border-box;top: 0;bottom: 0;left: 50%;z-index: -1;}#sk-container-id-7 div.sk-parallel-item {display: flex;flex-direction: column;z-index: 1;position: relative;background-color: white;}#sk-container-id-7 div.sk-parallel-item:first-child::after {align-self: flex-end;width: 50%;}#sk-container-id-7 div.sk-parallel-item:last-child::after {align-self: flex-start;width: 50%;}#sk-container-id-7 div.sk-parallel-item:only-child::after {width: 0;}#sk-container-id-7 div.sk-dashed-wrapped {border: 1px dashed gray;margin: 0 0.4em 0.5em 0.4em;box-sizing: border-box;padding-bottom: 0.4em;background-color: white;}#sk-container-id-7 div.sk-label label {font-family: monospace;font-weight: bold;display: inline-block;line-height: 1.2em;}#sk-container-id-7 div.sk-label-container {text-align: center;}#sk-container-id-7 div.sk-container {/* jupyter's `normalize.less` sets `[hidden] { display: none; }` but bootstrap.min.css set `[hidden] { display: none !important; }` so we also need the `!important` here to be able to override the default hidden behavior on the sphinx rendered scikit-learn.org. See: https://github.com/scikit-learn/scikit-learn/issues/21755 */display: inline-block !important;position: relative;}#sk-container-id-7 div.sk-text-repr-fallback {display: none;}</style><div id=\"sk-container-id-7\" class=\"sk-top-container\"><div class=\"sk-text-repr-fallback\"><pre>RandomizedSearchCV(cv=5, estimator=RandomForestRegressor(random_state=0),\n",
              "                   param_distributions={&#x27;n_estimators&#x27;: [50, 100, 150, 200]},\n",
              "                   random_state=0, scoring=&#x27;neg_mean_squared_error&#x27;)</pre><b>In a Jupyter environment, please rerun this cell to show the HTML representation or trust the notebook. <br />On GitHub, the HTML representation is unable to render, please try loading this page with nbviewer.org.</b></div><div class=\"sk-container\" hidden><div class=\"sk-item sk-dashed-wrapped\"><div class=\"sk-label-container\"><div class=\"sk-label sk-toggleable\"><input class=\"sk-toggleable__control sk-hidden--visually\" id=\"sk-estimator-id-19\" type=\"checkbox\" ><label for=\"sk-estimator-id-19\" class=\"sk-toggleable__label sk-toggleable__label-arrow\">RandomizedSearchCV</label><div class=\"sk-toggleable__content\"><pre>RandomizedSearchCV(cv=5, estimator=RandomForestRegressor(random_state=0),\n",
              "                   param_distributions={&#x27;n_estimators&#x27;: [50, 100, 150, 200]},\n",
              "                   random_state=0, scoring=&#x27;neg_mean_squared_error&#x27;)</pre></div></div></div><div class=\"sk-parallel\"><div class=\"sk-parallel-item\"><div class=\"sk-item\"><div class=\"sk-label-container\"><div class=\"sk-label sk-toggleable\"><input class=\"sk-toggleable__control sk-hidden--visually\" id=\"sk-estimator-id-20\" type=\"checkbox\" ><label for=\"sk-estimator-id-20\" class=\"sk-toggleable__label sk-toggleable__label-arrow\">estimator: RandomForestRegressor</label><div class=\"sk-toggleable__content\"><pre>RandomForestRegressor(random_state=0)</pre></div></div></div><div class=\"sk-serial\"><div class=\"sk-item\"><div class=\"sk-estimator sk-toggleable\"><input class=\"sk-toggleable__control sk-hidden--visually\" id=\"sk-estimator-id-21\" type=\"checkbox\" ><label for=\"sk-estimator-id-21\" class=\"sk-toggleable__label sk-toggleable__label-arrow\">RandomForestRegressor</label><div class=\"sk-toggleable__content\"><pre>RandomForestRegressor(random_state=0)</pre></div></div></div></div></div></div></div></div></div></div>"
            ]
          },
          "metadata": {},
          "execution_count": 89
        }
      ]
    },
    {
      "cell_type": "markdown",
      "source": [
        "Make the predictions you want it to output"
      ],
      "metadata": {
        "id": "7ba9UCYabZfB"
      }
    },
    {
      "cell_type": "code",
      "source": [
        "# pass in X_test to predict a y value on forest model\n",
        "y_predict = forest_model.predict(X_test)\n",
        "\n",
        "print(f\"Not Tuned: {y_predict}\")\n",
        "\n",
        "# Predict on the tuned model\n",
        "tuned_pred = random_search.predict(X_test)\n",
        "\n",
        "print(f\"Tuned Predicition: {tuned_pred}\")\n"
      ],
      "metadata": {
        "id": "cI6E4EVxbdYL",
        "colab": {
          "base_uri": "https://localhost:8080/"
        },
        "outputId": "803504eb-2bb8-4868-80df-2cb872955a23"
      },
      "execution_count": 90,
      "outputs": [
        {
          "output_type": "stream",
          "name": "stdout",
          "text": [
            "Not Tuned: [ 88.926 102.567  94.023 102.711 100.823 129.609  83.342  82.877  82.834\n",
            "  86.032  94.344 100.369  92.32   92.277 105.902  86.556 103.36   92.97\n",
            " 100.31   92.914 128.469 107.789 103.142  97.215  92.572 102.824  84.863\n",
            " 111.843  91.743 102.497 102.531 122.468  83.287  95.458 126.342  86.278\n",
            " 102.793 102.639 120.147]\n",
            "Tuned Predicition: [ 88.91533333 102.564       94.01266667 102.70466667 100.89066667\n",
            " 129.61866667  83.34533333  82.856       82.82066667  85.98066667\n",
            "  94.35866667 100.364       92.308       92.27933333 106.04333333\n",
            "  86.55866667 103.32466667  92.99466667 100.30533333  92.90466667\n",
            " 128.518      107.846      103.15133333  97.17866667  92.556\n",
            " 102.85466667  84.93133333 111.77133333  91.75466667 102.51333333\n",
            " 102.582      122.352       83.25533333  95.44266667 126.11666667\n",
            "  86.27666667 102.78733333 102.64066667 120.15333333]\n"
          ]
        }
      ]
    },
    {
      "cell_type": "markdown",
      "source": [
        "Check the model"
      ],
      "metadata": {
        "id": "08o6i4Yhbw5a"
      }
    },
    {
      "cell_type": "code",
      "source": [
        "# pass in your y test data and check it against your y predicted data\n",
        "mse = mean_squared_error(y_test, y_predict)\n",
        "selected_params = random_search.best_params_\n",
        "\n",
        "# share with the world!\n",
        "print(f\"Initial Mean Squared Error: {mse}\")\n",
        "print(f\"Best Parameters to use: {selected_params}\")"
      ],
      "metadata": {
        "id": "HV3PHV3zb0IJ",
        "colab": {
          "base_uri": "https://localhost:8080/"
        },
        "outputId": "75ba237d-94c1-4fa2-b5e0-e8d7ece4f616"
      },
      "execution_count": 91,
      "outputs": [
        {
          "output_type": "stream",
          "name": "stdout",
          "text": [
            "Initial Mean Squared Error: 0.3063721025641313\n",
            "Best Parameters to use: {'n_estimators': 150}\n"
          ]
        }
      ]
    },
    {
      "cell_type": "markdown",
      "source": [
        "Re-Initialize Random Forest using the slected Params"
      ],
      "metadata": {
        "id": "Q0UXkHUurxk8"
      }
    },
    {
      "cell_type": "code",
      "source": [
        "# Instatiate another forest model with the selected parameters\n",
        "final_forest = RandomForestRegressor(\n",
        "    selected_params['n_estimators'],\n",
        "    random_state=0\n",
        ")\n",
        "\n",
        "# Fit data to the new model\n",
        "final_forest.fit(X_train, y_train)\n",
        "final_pred = final_forest.predict(X_test)\n",
        "\n",
        "final_mse = mean_squared_error(y_test, final_pred)\n",
        "\n",
        "# Show hyper tuned MSE\n",
        "print(f\"Hyper Tuned Mean Squared Error: {final_mse}\")"
      ],
      "metadata": {
        "colab": {
          "base_uri": "https://localhost:8080/"
        },
        "id": "VZZpMpDlr1GZ",
        "outputId": "09e6238a-92c6-4054-de0d-31f7f0a833ef"
      },
      "execution_count": 92,
      "outputs": [
        {
          "output_type": "stream",
          "name": "stdout",
          "text": [
            "Hyper Tuned Mean Squared Error: 0.3101656068376412\n"
          ]
        }
      ]
    },
    {
      "cell_type": "markdown",
      "source": [
        "Make a pretty graph!"
      ],
      "metadata": {
        "id": "P0PM_tyLcLLo"
      }
    },
    {
      "cell_type": "code",
      "source": [
        "# Fit a linear regression line to the data\n",
        "# For the non-tuned actual vs predicted values\n",
        "coefficients_non_tuned = np.polyfit(y_test, y_predict, 1)\n",
        "\n",
        "# For the hyperparameter-tuned actual vs predicted values\n",
        "coefficients_tuned = np.polyfit(y_test, final_pred, 1)\n",
        "\n",
        "# Generate the regression lines\n",
        "line_non_tuned = np.polyval(coefficients_non_tuned, y_test)\n",
        "line_tuned = np.polyval(coefficients_tuned, y_test)\n",
        "\n",
        "# Plot the non-tuned actual vs predicted values\n",
        "plt.scatter(y_test, y_predict)\n",
        "plt.plot(\n",
        "    y_test,\n",
        "    line_non_tuned,\n",
        "    color='red',\n",
        "    label='Regression Line'\n",
        "    )\n",
        "plt.xlabel('Actual Prices')\n",
        "plt.ylabel('Predicted Prices')\n",
        "plt.title('First Learning Graph')\n",
        "\n",
        "# Adjust layout for better appearance\n",
        "plt.tight_layout()\n",
        "\n",
        "# Save the plot to a dynamic SVG file\n",
        "plt.savefig('firstGraph.svg', format='svg', bbox_inches='tight')\n",
        "\n",
        "plt.show()\n",
        "\n",
        "\n",
        "# plot hyperparamer tuned actual vs predicted\n",
        "plt.scatter(y_test, final_pred)\n",
        "plt.plot(\n",
        "    y_test,\n",
        "    line_tuned,\n",
        "    color='red',\n",
        "    label='Regression Line'\n",
        "    )\n",
        "plt.xlabel('Actual Prices')\n",
        "plt.ylabel('Predicted Prices')\n",
        "plt.title('Hyper Parameter Tuned Graph')\n",
        "\n",
        "# Adjust layout\n",
        "plt.tight_layout()\n",
        "\n",
        "# Save and show\n",
        "plt.savefig('TunedGraph.svg', format='svg', bbox_inches='tight')\n",
        "\n",
        "plt.show()"
      ],
      "metadata": {
        "id": "rOddLwDncM49",
        "colab": {
          "base_uri": "https://localhost:8080/",
          "height": 957
        },
        "outputId": "80cc9b69-fdd1-49f8-fc2d-84fcf851b838"
      },
      "execution_count": 93,
      "outputs": [
        {
          "output_type": "display_data",
          "data": {
            "text/plain": [
              "<Figure size 640x480 with 1 Axes>"
            ],
            "image/png": "[encoded data removed]"
          },
          "metadata": {}
        },
        {
          "output_type": "display_data",
          "data": {
            "text/plain": [
              "<Figure size 640x480 with 1 Axes>"
            ],
            "image/png": "[encoded data removed]"
          },
          "metadata": {}
        }
      ]
    }
  ]
}