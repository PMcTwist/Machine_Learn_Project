{
  "nbformat": 4,
  "nbformat_minor": 0,
  "metadata": {
    "colab": {
      "provenance": []
    },
    "kernelspec": {
      "name": "python3",
      "display_name": "Python 3"
    },
    "language_info": {
      "name": "python"
    }
  },
  "cells": [
    {
      "cell_type": "markdown",
      "source": [
        "Import Libraries"
      ],
      "metadata": {
        "id": "FVSLrnB4V58Y"
      }
    },
    {
      "cell_type": "code",
      "execution_count": 1,
      "metadata": {
        "id": "Wwbpq9xyVxru"
      },
      "outputs": [],
      "source": [
        "# basic imports\n",
        "import pandas as pd\n",
        "import matplotlib.pyplot as plt\n",
        "\n",
        "\n",
        "# specific imports\n",
        "from sklearn.model_selection import train_test_split\n",
        "from sklearn.ensemble import RandomForestRegressor\n",
        "from sklearn.metrics import mean_squared_error\n",
        "from sklearn.preprocessing import LabelEncoder"
      ]
    },
    {
      "cell_type": "markdown",
      "source": [
        "Import Dataset"
      ],
      "metadata": {
        "id": "_xWO0NeGWGEb"
      }
    },
    {
      "cell_type": "code",
      "source": [
        "# Assign data to variable\n",
        "dataset = pd.read_csv('placeholder.csv')\n",
        "\n",
        "# Take a small look at the dataframe produced\n",
        "print(dataset.head())"
      ],
      "metadata": {
        "id": "A2InakXNWIvt"
      },
      "execution_count": null,
      "outputs": []
    },
    {
      "cell_type": "markdown",
      "source": [
        "Preprocess Data (normalize it!)"
      ],
      "metadata": {
        "id": "seTtI-N0W-lo"
      }
    },
    {
      "cell_type": "code",
      "source": [
        "# select columns that need to be processed\n"
      ],
      "metadata": {
        "id": "B-einCIaXCDB"
      },
      "execution_count": null,
      "outputs": []
    },
    {
      "cell_type": "markdown",
      "source": [
        "Encode Catagorical data"
      ],
      "metadata": {
        "id": "_gfvWrNMXDRj"
      }
    },
    {
      "cell_type": "code",
      "source": [
        "# Initialize the encoder to work with\n",
        "label_encoder = LabelEncoder()\n",
        "\n",
        "# Fit the data needed to the encoder for later use\n",
        "dataset['column name'] = label_encoder.fit_transform(dataset['column name'])"
      ],
      "metadata": {
        "id": "R3Plud-qXLT1"
      },
      "execution_count": null,
      "outputs": []
    },
    {
      "cell_type": "markdown",
      "source": [
        "Split data into X and y sets"
      ],
      "metadata": {
        "id": "66FXpljcXqCd"
      }
    },
    {
      "cell_type": "code",
      "source": [
        "# define X and y variables\n",
        "X = dataset.iloc[:, 1].values\n",
        "y = dataset.iloc[:, 2].values\n",
        "\n",
        "# varify the split data\n",
        "print(f\"X dataset example: {X[0]}\")\n",
        "print(f\"y dataset example: {y[0]}\")"
      ],
      "metadata": {
        "id": "FhGrnHNtXuH8"
      },
      "execution_count": null,
      "outputs": []
    },
    {
      "cell_type": "markdown",
      "source": [
        "Break data into Training and Test sets"
      ],
      "metadata": {
        "id": "O8qAPthZaIdR"
      }
    },
    {
      "cell_type": "code",
      "source": [
        "# Split into 4 specific variables\n",
        "X_train, X_test, y_train, y_test = train_test_split(X, y, test_size=0.2, random_state=42)"
      ],
      "metadata": {
        "id": "RBUg6yYhaLn1"
      },
      "execution_count": null,
      "outputs": []
    },
    {
      "cell_type": "markdown",
      "source": [
        "Instatiate the model"
      ],
      "metadata": {
        "id": "D5n-23ETa-a_"
      }
    },
    {
      "cell_type": "code",
      "source": [
        "# plant the seeds to grow a forest\n",
        "forest_model = RandomForestRegressor(n_estimators=50, random_state=42)"
      ],
      "metadata": {
        "id": "SDbmURrrbA7e"
      },
      "execution_count": null,
      "outputs": []
    },
    {
      "cell_type": "markdown",
      "source": [
        "Train the model"
      ],
      "metadata": {
        "id": "KIZsCg6QbNz-"
      }
    },
    {
      "cell_type": "code",
      "source": [
        "# call your model and passin the training datasets\n",
        "forest_model.fit(X_train, y_train)"
      ],
      "metadata": {
        "id": "pq0SWJokbQ51"
      },
      "execution_count": null,
      "outputs": []
    },
    {
      "cell_type": "markdown",
      "source": [
        "Make the predictions you want it to output"
      ],
      "metadata": {
        "id": "7ba9UCYabZfB"
      }
    },
    {
      "cell_type": "code",
      "source": [
        "# pass in X_test to predict a y value\n",
        "y_predict = forest_model.predict(X_test)"
      ],
      "metadata": {
        "id": "cI6E4EVxbdYL"
      },
      "execution_count": null,
      "outputs": []
    },
    {
      "cell_type": "markdown",
      "source": [
        "Check the model"
      ],
      "metadata": {
        "id": "08o6i4Yhbw5a"
      }
    },
    {
      "cell_type": "code",
      "source": [
        "# pass in your y test data and check it against your y predicted data\n",
        "mse = mean_squared_error(y_test, y_predict)\n",
        "\n",
        "# share with the world!\n",
        "print(f\"mean Squared Error: {mse}\")"
      ],
      "metadata": {
        "id": "HV3PHV3zb0IJ"
      },
      "execution_count": null,
      "outputs": []
    },
    {
      "cell_type": "markdown",
      "source": [
        "Make a pretty graph!"
      ],
      "metadata": {
        "id": "P0PM_tyLcLLo"
      }
    },
    {
      "cell_type": "code",
      "source": [
        "# Plot the actual vs predicted values\n",
        "plt.scatter(y_test, y_predict)\n",
        "plt.xlabel('Actual Prices')\n",
        "plt.ylabel('Predicted Prices')\n",
        "plt.title('Actual Prices vs Predicted Prices')\n",
        "plt.show()"
      ],
      "metadata": {
        "id": "rOddLwDncM49"
      },
      "execution_count": null,
      "outputs": []
    }
  ]
}