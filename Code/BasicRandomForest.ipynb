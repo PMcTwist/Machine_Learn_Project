{
  "nbformat": 4,
  "nbformat_minor": 0,
  "metadata": {
    "colab": {
      "provenance": []
    },
    "kernelspec": {
      "name": "python3",
      "display_name": "Python 3"
    },
    "language_info": {
      "name": "python"
    }
  },
  "cells": [
    {
      "cell_type": "markdown",
      "source": [
        "Import Libraries"
      ],
      "metadata": {
        "id": "FVSLrnB4V58Y"
      }
    },
    {
      "cell_type": "code",
      "execution_count": 1,
      "metadata": {
        "id": "Wwbpq9xyVxru"
      },
      "outputs": [],
      "source": [
        "# basic imports\n",
        "import pandas as pd\n",
        "import numpy as np\n",
        "import matplotlib.pyplot as plt\n",
        "from datetime import datetime\n",
        "\n",
        "# specific imports\n",
        "from sklearn.model_selection import train_test_split\n",
        "from sklearn.ensemble import RandomForestRegressor\n",
        "from sklearn.metrics import mean_squared_error\n",
        "from sklearn.preprocessing import LabelEncoder"
      ]
    },
    {
      "cell_type": "markdown",
      "source": [
        "Import Dataset"
      ],
      "metadata": {
        "id": "_xWO0NeGWGEb"
      }
    },
    {
      "cell_type": "code",
      "source": [
        "# Assign data to variable\n",
        "dataset = pd.read_csv('combinedData.csv')\n",
        "\n",
        "# Take a small look at the dataframe produced\n",
        "print(dataset.head())"
      ],
      "metadata": {
        "id": "A2InakXNWIvt",
        "colab": {
          "base_uri": "https://localhost:8080/"
        },
        "outputId": "a7c38eab-8a37-4a76-f194-322a3756a782"
      },
      "execution_count": 2,
      "outputs": [
        {
          "output_type": "stream",
          "name": "stdout",
          "text": [
            "   January 2008  February 2008  March 2008  April 2008  May 2008  June 2008  \\\n",
            "0         86.10          86.30        86.4        86.3     86.20       86.3   \n",
            "1          6.81           6.72         6.6         6.4      6.21        6.2   \n",
            "2        119.20         119.60       120.1       121.2    121.60      122.3   \n",
            "\n",
            "   July 2008  August 2008  September 2008  October 2008  ...  March 2023  \\\n",
            "0      86.30        86.30           86.30         85.60  ...      128.40   \n",
            "1       6.37         6.25            6.16          6.46  ...        5.81   \n",
            "2     123.30       123.80          123.10        123.20  ...      168.90   \n",
            "\n",
            "   April 2023  May 2023  June 2023  July 2023  August 2023  September 2023  \\\n",
            "0      128.20    128.30     128.30     128.20       128.10          127.80   \n",
            "1        5.75      5.74       5.85       5.99         6.17            6.27   \n",
            "2      169.90    170.60     171.40     172.60       174.00          174.80   \n",
            "\n",
            "   October 2023  November 2023  December 2023  \n",
            "0        127.60         127.20         127.20  \n",
            "1          6.42           6.47           6.39  \n",
            "2        176.30         177.10         177.80  \n",
            "\n",
            "[3 rows x 192 columns]\n"
          ]
        }
      ]
    },
    {
      "cell_type": "markdown",
      "source": [
        "Preprocess Data (normalize it!)"
      ],
      "metadata": {
        "id": "seTtI-N0W-lo"
      }
    },
    {
      "cell_type": "code",
      "source": [
        "# Convert the date strings into datetime objects\n",
        "converted_dates = []\n",
        "\n",
        "for date in dataset.columns:\n",
        "  datetime_object = datetime.strptime(date, '%B %Y')\n",
        "  converted_dates.append(datetime_object.timestamp())\n",
        "\n",
        "dates_array = np.array(converted_dates)"
      ],
      "metadata": {
        "id": "B-einCIaXCDB"
      },
      "execution_count": 3,
      "outputs": []
    },
    {
      "cell_type": "markdown",
      "source": [
        "Encode Catagorical data"
      ],
      "metadata": {
        "id": "_gfvWrNMXDRj"
      }
    },
    {
      "cell_type": "code",
      "source": [
        "# Initialize the encoder to work with\n",
        "label_encoder = LabelEncoder()\n",
        "\n",
        "print(dataset.iloc[0])\n",
        "\n",
        "# Fit the data needed to the encoder for later use\n",
        "label_encoder.fit(dataset.iloc[0])\n",
        "\n",
        "dataset.iloc[1] = label_encoder.transform(dataset.iloc[0])"
      ],
      "metadata": {
        "id": "R3Plud-qXLT1",
        "colab": {
          "base_uri": "https://localhost:8080/"
        },
        "outputId": "bb0b014f-aeb5-450f-88e7-707dac948b69"
      },
      "execution_count": 4,
      "outputs": [
        {
          "output_type": "stream",
          "name": "stdout",
          "text": [
            "January 2008       86.1\n",
            "February 2008      86.3\n",
            "March 2008         86.4\n",
            "April 2008         86.3\n",
            "May 2008           86.2\n",
            "                  ...  \n",
            "August 2023       128.1\n",
            "September 2023    127.8\n",
            "October 2023      127.6\n",
            "November 2023     127.2\n",
            "December 2023     127.2\n",
            "Name: 0, Length: 192, dtype: float64\n"
          ]
        }
      ]
    },
    {
      "cell_type": "markdown",
      "source": [
        "Split data into X and y sets"
      ],
      "metadata": {
        "id": "66FXpljcXqCd"
      }
    },
    {
      "cell_type": "code",
      "source": [
        "# define X and y variables\n",
        "X = dates_array\n",
        "y = dataset.iloc[0].values\n",
        "\n",
        "# varify the split data\n",
        "print(f\"X dataset example: {X[0]}\")\n",
        "print(f\"y dataset example: {y[0]}\")"
      ],
      "metadata": {
        "id": "FhGrnHNtXuH8",
        "colab": {
          "base_uri": "https://localhost:8080/"
        },
        "outputId": "7f6e624d-f674-4484-8853-e31e0435d462"
      },
      "execution_count": 5,
      "outputs": [
        {
          "output_type": "stream",
          "name": "stdout",
          "text": [
            "X dataset example: 1199145600.0\n",
            "y dataset example: 86.1\n"
          ]
        }
      ]
    },
    {
      "cell_type": "markdown",
      "source": [
        "Break data into Training and Test sets"
      ],
      "metadata": {
        "id": "O8qAPthZaIdR"
      }
    },
    {
      "cell_type": "code",
      "source": [
        "# Split into 4 specific variables\n",
        "X_train, X_test, y_train, y_test = train_test_split(X, y, test_size=0.2, random_state=42)\n",
        "\n",
        "X_train = X_train.reshape(-1, 1)\n",
        "X_test = X_test.reshape(-1, 1)"
      ],
      "metadata": {
        "id": "RBUg6yYhaLn1"
      },
      "execution_count": 6,
      "outputs": []
    },
    {
      "cell_type": "markdown",
      "source": [
        "Instatiate the model"
      ],
      "metadata": {
        "id": "D5n-23ETa-a_"
      }
    },
    {
      "cell_type": "code",
      "source": [
        "# plant the seeds to grow a forest\n",
        "forest_model = RandomForestRegressor(n_estimators=50, random_state=0)"
      ],
      "metadata": {
        "id": "SDbmURrrbA7e"
      },
      "execution_count": 7,
      "outputs": []
    },
    {
      "cell_type": "markdown",
      "source": [
        "Train the model"
      ],
      "metadata": {
        "id": "KIZsCg6QbNz-"
      }
    },
    {
      "cell_type": "code",
      "source": [
        "# call your model and passin the training datasets\n",
        "forest_model.fit(X_train, y_train)"
      ],
      "metadata": {
        "id": "pq0SWJokbQ51",
        "colab": {
          "base_uri": "https://localhost:8080/",
          "height": 75
        },
        "outputId": "12ca224c-eac1-4d9f-a86d-3e1d40afc765"
      },
      "execution_count": 8,
      "outputs": [
        {
          "output_type": "execute_result",
          "data": {
            "text/plain": [
              "RandomForestRegressor(n_estimators=50, random_state=0)"
            ],
            "text/html": [
              "<style>#sk-container-id-1 {color: black;background-color: white;}#sk-container-id-1 pre{padding: 0;}#sk-container-id-1 div.sk-toggleable {background-color: white;}#sk-container-id-1 label.sk-toggleable__label {cursor: pointer;display: block;width: 100%;margin-bottom: 0;padding: 0.3em;box-sizing: border-box;text-align: center;}#sk-container-id-1 label.sk-toggleable__label-arrow:before {content: \"▸\";float: left;margin-right: 0.25em;color: #696969;}#sk-container-id-1 label.sk-toggleable__label-arrow:hover:before {color: black;}#sk-container-id-1 div.sk-estimator:hover label.sk-toggleable__label-arrow:before {color: black;}#sk-container-id-1 div.sk-toggleable__content {max-height: 0;max-width: 0;overflow: hidden;text-align: left;background-color: #f0f8ff;}#sk-container-id-1 div.sk-toggleable__content pre {margin: 0.2em;color: black;border-radius: 0.25em;background-color: #f0f8ff;}#sk-container-id-1 input.sk-toggleable__control:checked~div.sk-toggleable__content {max-height: 200px;max-width: 100%;overflow: auto;}#sk-container-id-1 input.sk-toggleable__control:checked~label.sk-toggleable__label-arrow:before {content: \"▾\";}#sk-container-id-1 div.sk-estimator input.sk-toggleable__control:checked~label.sk-toggleable__label {background-color: #d4ebff;}#sk-container-id-1 div.sk-label input.sk-toggleable__control:checked~label.sk-toggleable__label {background-color: #d4ebff;}#sk-container-id-1 input.sk-hidden--visually {border: 0;clip: rect(1px 1px 1px 1px);clip: rect(1px, 1px, 1px, 1px);height: 1px;margin: -1px;overflow: hidden;padding: 0;position: absolute;width: 1px;}#sk-container-id-1 div.sk-estimator {font-family: monospace;background-color: #f0f8ff;border: 1px dotted black;border-radius: 0.25em;box-sizing: border-box;margin-bottom: 0.5em;}#sk-container-id-1 div.sk-estimator:hover {background-color: #d4ebff;}#sk-container-id-1 div.sk-parallel-item::after {content: \"\";width: 100%;border-bottom: 1px solid gray;flex-grow: 1;}#sk-container-id-1 div.sk-label:hover label.sk-toggleable__label {background-color: #d4ebff;}#sk-container-id-1 div.sk-serial::before {content: \"\";position: absolute;border-left: 1px solid gray;box-sizing: border-box;top: 0;bottom: 0;left: 50%;z-index: 0;}#sk-container-id-1 div.sk-serial {display: flex;flex-direction: column;align-items: center;background-color: white;padding-right: 0.2em;padding-left: 0.2em;position: relative;}#sk-container-id-1 div.sk-item {position: relative;z-index: 1;}#sk-container-id-1 div.sk-parallel {display: flex;align-items: stretch;justify-content: center;background-color: white;position: relative;}#sk-container-id-1 div.sk-item::before, #sk-container-id-1 div.sk-parallel-item::before {content: \"\";position: absolute;border-left: 1px solid gray;box-sizing: border-box;top: 0;bottom: 0;left: 50%;z-index: -1;}#sk-container-id-1 div.sk-parallel-item {display: flex;flex-direction: column;z-index: 1;position: relative;background-color: white;}#sk-container-id-1 div.sk-parallel-item:first-child::after {align-self: flex-end;width: 50%;}#sk-container-id-1 div.sk-parallel-item:last-child::after {align-self: flex-start;width: 50%;}#sk-container-id-1 div.sk-parallel-item:only-child::after {width: 0;}#sk-container-id-1 div.sk-dashed-wrapped {border: 1px dashed gray;margin: 0 0.4em 0.5em 0.4em;box-sizing: border-box;padding-bottom: 0.4em;background-color: white;}#sk-container-id-1 div.sk-label label {font-family: monospace;font-weight: bold;display: inline-block;line-height: 1.2em;}#sk-container-id-1 div.sk-label-container {text-align: center;}#sk-container-id-1 div.sk-container {/* jupyter's `normalize.less` sets `[hidden] { display: none; }` but bootstrap.min.css set `[hidden] { display: none !important; }` so we also need the `!important` here to be able to override the default hidden behavior on the sphinx rendered scikit-learn.org. See: https://github.com/scikit-learn/scikit-learn/issues/21755 */display: inline-block !important;position: relative;}#sk-container-id-1 div.sk-text-repr-fallback {display: none;}</style><div id=\"sk-container-id-1\" class=\"sk-top-container\"><div class=\"sk-text-repr-fallback\"><pre>RandomForestRegressor(n_estimators=50, random_state=0)</pre><b>In a Jupyter environment, please rerun this cell to show the HTML representation or trust the notebook. <br />On GitHub, the HTML representation is unable to render, please try loading this page with nbviewer.org.</b></div><div class=\"sk-container\" hidden><div class=\"sk-item\"><div class=\"sk-estimator sk-toggleable\"><input class=\"sk-toggleable__control sk-hidden--visually\" id=\"sk-estimator-id-1\" type=\"checkbox\" checked><label for=\"sk-estimator-id-1\" class=\"sk-toggleable__label sk-toggleable__label-arrow\">RandomForestRegressor</label><div class=\"sk-toggleable__content\"><pre>RandomForestRegressor(n_estimators=50, random_state=0)</pre></div></div></div></div></div>"
            ]
          },
          "metadata": {},
          "execution_count": 8
        }
      ]
    },
    {
      "cell_type": "markdown",
      "source": [
        "Make the predictions you want it to output"
      ],
      "metadata": {
        "id": "7ba9UCYabZfB"
      }
    },
    {
      "cell_type": "code",
      "source": [
        "# pass in X_test to predict a y value\n",
        "y_predict = forest_model.predict(X_test)\n",
        "\n",
        "print(y_predict)"
      ],
      "metadata": {
        "id": "cI6E4EVxbdYL",
        "colab": {
          "base_uri": "https://localhost:8080/"
        },
        "outputId": "9e7274f3-76ce-4749-9f60-f22ad4b5489b"
      },
      "execution_count": 9,
      "outputs": [
        {
          "output_type": "stream",
          "name": "stdout",
          "text": [
            "[ 88.942 102.56   94.024 102.696 100.88  129.616  83.286  82.856  82.802\n",
            "  86.08   94.334 100.376  92.308  92.262 105.916  86.564 103.346  92.986\n",
            " 100.318  92.956 128.656 107.882 103.146  97.236  92.596 102.916  84.862\n",
            " 111.946  91.752 102.494 102.512 122.428  83.278  95.456 126.344  86.272\n",
            " 102.796 102.624 119.978]\n"
          ]
        }
      ]
    },
    {
      "cell_type": "markdown",
      "source": [
        "Check the model"
      ],
      "metadata": {
        "id": "08o6i4Yhbw5a"
      }
    },
    {
      "cell_type": "code",
      "source": [
        "# pass in your y test data and check it against your y predicted data\n",
        "mse = mean_squared_error(y_test, y_predict)\n",
        "\n",
        "# share with the world!\n",
        "print(f\"mean Squared Error: {mse}\")"
      ],
      "metadata": {
        "id": "HV3PHV3zb0IJ",
        "colab": {
          "base_uri": "https://localhost:8080/"
        },
        "outputId": "ffd2d322-b8c0-4d2d-93f1-22a8101fbaf0"
      },
      "execution_count": 10,
      "outputs": [
        {
          "output_type": "stream",
          "name": "stdout",
          "text": [
            "mean Squared Error: 0.30800769230769187\n"
          ]
        }
      ]
    },
    {
      "cell_type": "markdown",
      "source": [
        "Make a pretty graph!"
      ],
      "metadata": {
        "id": "P0PM_tyLcLLo"
      }
    },
    {
      "cell_type": "code",
      "source": [
        "# Plot the actual vs predicted values\n",
        "plt.scatter(y_test, y_predict)\n",
        "plt.xlabel('Actual Prices')\n",
        "plt.ylabel('Predicted Prices')\n",
        "plt.title('Actual Prices vs Predicted Prices')\n",
        "plt.show()"
      ],
      "metadata": {
        "id": "rOddLwDncM49",
        "colab": {
          "base_uri": "https://localhost:8080/",
          "height": 472
        },
        "outputId": "284a7cd9-212a-46fb-c6f0-d050baf9eb03"
      },
      "execution_count": 11,
      "outputs": [
        {
          "output_type": "display_data",
          "data": {
            "text/plain": [
              "<Figure size 640x480 with 1 Axes>"
            ],
            "image/png": "[encoded data removed]"
          },
          "metadata": {}
        }
      ]
    }
  ]
}