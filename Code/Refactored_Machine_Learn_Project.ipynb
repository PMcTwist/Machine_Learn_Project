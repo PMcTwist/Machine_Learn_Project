{
  "nbformat": 4,
  "nbformat_minor": 0,
  "metadata": {
    "colab": {
      "provenance": [],
      "toc_visible": true
    },
    "kernelspec": {
      "name": "python3",
      "display_name": "Python 3"
    },
    "language_info": {
      "name": "python"
    }
  },
  "cells": [
    {
      "cell_type": "markdown",
      "source": [
        "### Dependancy Imports"
      ],
      "metadata": {
        "id": "cAgOa605Cxw0"
      }
    },
    {
      "cell_type": "code",
      "execution_count": 89,
      "metadata": {
        "id": "F3xDFaWbCsv7"
      },
      "outputs": [],
      "source": [
        "# Basic imports\n",
        "import pandas as pd\n",
        "import numpy as np\n",
        "import matplotlib.pyplot as plt\n",
        "from datetime import datetime as dt\n",
        "\n",
        "# Specific imports\n",
        "from sklearn.model_selection import train_test_split\n",
        "from sklearn.ensemble import RandomForestRegressor\n",
        "from sklearn.metrics import mean_squared_error\n",
        "from sklearn.preprocessing import LabelEncoder\n",
        "from sklearn.model_selection import RandomizedSearchCV"
      ]
    },
    {
      "cell_type": "markdown",
      "source": [
        "### Import Data"
      ],
      "metadata": {
        "id": "O0d2jQjVC2vz"
      }
    },
    {
      "cell_type": "code",
      "source": [
        "# Assign data to variable\n",
        "dataset = pd.read_csv('HousingData.csv')\n",
        "dataset = dataset.head(229)\n",
        "\n",
        "# Convert the date strings into datetime objects\n",
        "dataset['Date'] = pd.to_datetime(dataset['Date'])\n",
        "\n",
        "# Convert Date Features to a number format\n",
        "dataset['Year'] = dataset['Date'].dt.year\n",
        "dataset['Month'] = dataset['Date'].dt.month\n",
        "\n",
        "# Take a small look at the dataframe produced\n",
        "print(dataset.head())\n",
        "print(dataset.shape)"
      ],
      "metadata": {
        "colab": {
          "base_uri": "https://localhost:8080/"
        },
        "id": "FiOD-yHkC5Hx",
        "outputId": "a49b116b-5618-48bc-f22c-78a69b806109"
      },
      "execution_count": 90,
      "outputs": [
        {
          "output_type": "stream",
          "name": "stdout",
          "text": [
            "        Date  Composite_HPI  Single_Family_HPI  One_Storey_HPI  \\\n",
            "0 2005-01-01          100.0              100.0           100.0   \n",
            "1 2005-02-01          101.0              101.0           101.2   \n",
            "2 2005-03-01          102.1              102.1           102.4   \n",
            "3 2005-04-01          103.1              103.2           103.8   \n",
            "4 2005-05-01          103.8              103.8           104.6   \n",
            "\n",
            "   Two_Storey_HPI  Townhouse_HPI  Apartment_HPI  Composite_Benchmark  \\\n",
            "0           100.0          100.0          100.0             237700.0   \n",
            "1           100.9          100.9          101.3             240100.0   \n",
            "2           101.9          101.7          102.3             242600.0   \n",
            "3           102.9          102.5          103.1             245100.0   \n",
            "4           103.4          103.2          104.1             246700.0   \n",
            "\n",
            "   Single_Family_Benchmark  One_Storey_Benchmark  Two_Storey_Benchmark  \\\n",
            "0                 257600.0              205000.0              300000.0   \n",
            "1                 260100.0              207400.0              302700.0   \n",
            "2                 263000.0              210000.0              305700.0   \n",
            "3                 265800.0              212700.0              308600.0   \n",
            "4                 267500.0              214500.0              310100.0   \n",
            "\n",
            "   Townhouse_Benchmark  Apartment_Benchmark  Year  Month  \n",
            "0             199600.0             172400.0  2005      1  \n",
            "1             201400.0             174600.0  2005      2  \n",
            "2             202900.0             176400.0  2005      3  \n",
            "3             204500.0             177800.0  2005      4  \n",
            "4             205900.0             179500.0  2005      5  \n",
            "(229, 15)\n"
          ]
        }
      ]
    },
    {
      "cell_type": "markdown",
      "source": [
        "### Split data in to features"
      ],
      "metadata": {
        "id": "kcRxKA-aC8VB"
      }
    },
    {
      "cell_type": "code",
      "source": [
        "# Split data into X and y sets\n",
        "X = dataset[[\n",
        "    'Year',\n",
        "    'Month',\n",
        "    'Composite_HPI',\n",
        "    'Single_Family_Benchmark',\n",
        "    'One_Storey_Benchmark',\n",
        "    'Two_Storey_Benchmark',\n",
        "    'Townhouse_Benchmark',\n",
        "    'Apartment_Benchmark'\n",
        "    ]]\n",
        "\n",
        "y = dataset['Composite_Benchmark']"
      ],
      "metadata": {
        "id": "b6C9NXAPC-59"
      },
      "execution_count": 99,
      "outputs": []
    },
    {
      "cell_type": "markdown",
      "source": [
        "### Split the dataset"
      ],
      "metadata": {
        "id": "DPYHh1Z4Dx-d"
      }
    },
    {
      "cell_type": "code",
      "source": [
        "# Set up your sets into train and test variables\n",
        "X_train, X_test, y_train, y_test = train_test_split(\n",
        "    X,\n",
        "    y,\n",
        "    test_size = 0.2,\n",
        "    random_state = 0\n",
        "    )\n",
        "\n",
        "# Show the user a sample of the dataset for reference\n",
        "print(f\"X-train sample: {X_train.head()}\")\n",
        "print(f\"y-train sample: {y_train.head()}\")"
      ],
      "metadata": {
        "colab": {
          "base_uri": "https://localhost:8080/"
        },
        "id": "H_J8fBrWEQqS",
        "outputId": "6ac165bc-ec75-4801-87fd-18554c2dc991"
      },
      "execution_count": 92,
      "outputs": [
        {
          "output_type": "stream",
          "name": "stdout",
          "text": [
            "X-train sample:      Year  Month  Composite_HPI  Single_Family_Benchmark  \\\n",
            "33   2007     10          134.1                 343000.0   \n",
            "71   2010     12          139.9                 358500.0   \n",
            "154  2017     11          229.0                 594500.0   \n",
            "205  2022      2          355.7                 943800.0   \n",
            "106  2013     11          160.2                 417300.0   \n",
            "\n",
            "     One_Storey_Benchmark  Two_Storey_Benchmark  Townhouse_Benchmark  \\\n",
            "33               284700.0              388500.0             277200.0   \n",
            "71               283400.0              413900.0             288800.0   \n",
            "154              442100.0              703900.0             466200.0   \n",
            "205              722200.0             1099800.0             754200.0   \n",
            "106              322400.0              486400.0             312300.0   \n",
            "\n",
            "     Apartment_Benchmark  \n",
            "33              239700.0  \n",
            "71              251900.0  \n",
            "154             402500.0  \n",
            "205             567500.0  \n",
            "106             266400.0  \n",
            "y-train sample: 33     318700.0\n",
            "71     332600.0\n",
            "154    544400.0\n",
            "205    845400.0\n",
            "106    380900.0\n",
            "Name: Composite_Benchmark, dtype: float64\n"
          ]
        }
      ]
    },
    {
      "cell_type": "markdown",
      "source": [
        "### Setup Basic Model"
      ],
      "metadata": {
        "id": "6-ra1oSvFQAD"
      }
    },
    {
      "cell_type": "code",
      "source": [
        "# Plant the seeds to grow a basic forest\n",
        "forest_model = RandomForestRegressor(random_state = 0)"
      ],
      "metadata": {
        "id": "V4xx31WXFSA7"
      },
      "execution_count": 93,
      "outputs": []
    },
    {
      "cell_type": "markdown",
      "source": [
        "### Hyper Parameters"
      ],
      "metadata": {
        "id": "J3lY-4ikFInW"
      }
    },
    {
      "cell_type": "code",
      "source": [
        "# Setup parameters\n",
        "param_dist = {'n_estimators': [\n",
        "    50,\n",
        "    100,\n",
        "    150,\n",
        "    200,\n",
        "    250,\n",
        "    300,\n",
        "    350,\n",
        "    400,\n",
        "    450,\n",
        "    500,\n",
        "    550,\n",
        "    600,\n",
        "    650,\n",
        "    700,\n",
        "    750\n",
        "    ]}\n",
        "\n",
        "# Initialize the random search\n",
        "random_search = RandomizedSearchCV(\n",
        "    estimator = forest_model,\n",
        "    param_distributions = param_dist,\n",
        "    n_iter = 15,\n",
        "    cv = 5,\n",
        "    scoring = 'neg_mean_squared_error',\n",
        "    random_state = 0\n",
        ")\n",
        "\n",
        "# Fit the model\n",
        "random_search.fit(X_train, y_train)\n",
        "\n",
        "# Store the best selection for later\n",
        "selected_params = random_search.best_params_\n",
        "\n",
        "# Show the user the best parameter\n",
        "print(f\"Selected Param: {selected_params}\")"
      ],
      "metadata": {
        "colab": {
          "base_uri": "https://localhost:8080/"
        },
        "id": "9UiXqP6MFLNU",
        "outputId": "3bc90739-4d0e-4934-fb9e-a7e27bf8a8c0"
      },
      "execution_count": 100,
      "outputs": [
        {
          "output_type": "stream",
          "name": "stdout",
          "text": [
            "Selected Param: {'n_estimators': 350}\n"
          ]
        }
      ]
    },
    {
      "cell_type": "markdown",
      "source": [
        "### Final Model Set up"
      ],
      "metadata": {
        "id": "-VHyDkhYGgda"
      }
    },
    {
      "cell_type": "code",
      "source": [
        "# Re-Initialize Random Forest using the selected Params\n",
        "final_forest = RandomForestRegressor(\n",
        "    n_estimators = selected_params['n_estimators'],\n",
        "    random_state = 0\n",
        ")\n",
        "\n",
        "# Fit data to the new model\n",
        "final_forest.fit(X_train, y_train)\n",
        "\n",
        "# Make prediction to get a score to check\n",
        "score_predict = final_forest.predict(X_test)"
      ],
      "metadata": {
        "id": "WsDwMAUHGjDO"
      },
      "execution_count": 101,
      "outputs": []
    },
    {
      "cell_type": "markdown",
      "source": [
        "### Scoring"
      ],
      "metadata": {
        "id": "ygb03VUgXQFW"
      }
    },
    {
      "cell_type": "code",
      "source": [
        "# Pass in your y test data and check it against your y predicted data\n",
        "mse = mean_squared_error(y_test, score_predict)\n",
        "\n",
        "# Share with the world!\n",
        "print(f\"Mean Squared Error: {mse}\")"
      ],
      "metadata": {
        "colab": {
          "base_uri": "https://localhost:8080/"
        },
        "id": "GcqrogvgXR_4",
        "outputId": "bee75b07-fd8a-4369-d1e4-293a2d2c5dbc"
      },
      "execution_count": 102,
      "outputs": [
        {
          "output_type": "stream",
          "name": "stdout",
          "text": [
            "Initial Mean Squared Error: 13609729.002661912\n"
          ]
        }
      ]
    },
    {
      "cell_type": "markdown",
      "source": [
        "### Create Future Data"
      ],
      "metadata": {
        "id": "4Wo7sjqUHMZE"
      }
    },
    {
      "cell_type": "code",
      "source": [
        "# Create a dataset for future dates\n",
        "future_dates = pd.date_range(start='2024-01-01', periods=120, freq='M')\n",
        "future_data = pd.DataFrame({'Date': future_dates})\n",
        "\n",
        "# Add the old data to the new set\n",
        "future_data['Composite_HPI'] = dataset['Composite_HPI']\n",
        "future_data['Single_Family_Benchmark'] = dataset['Single_Family_Benchmark']\n",
        "future_data['One_Storey_Benchmark'] = dataset['One_Storey_Benchmark']\n",
        "future_data['Two_Storey_Benchmark'] = dataset['Two_Storey_Benchmark']\n",
        "future_data['Townhouse_Benchmark'] = dataset['Townhouse_Benchmark']\n",
        "future_data['Apartment_Benchmark'] = dataset['Apartment_Benchmark']\n",
        "\n",
        "# Create future dataset with date features\n",
        "future_data['Year'] = future_data['Date'].dt.year\n",
        "future_data['Month'] = future_data['Date'].dt.month\n",
        "\n",
        "# Grab features for prediction\n",
        "features_for_prediction = future_data[[\n",
        "    'Year',\n",
        "    'Month',\n",
        "    'Composite_HPI',\n",
        "    'Single_Family_Benchmark',\n",
        "    'One_Storey_Benchmark',\n",
        "    'Two_Storey_Benchmark',\n",
        "    'Townhouse_Benchmark',\n",
        "    'Apartment_Benchmark'\n",
        "    ]]\n",
        "\n",
        "# Print a sample of the normalized future dataset\n",
        "print(f\"Normalized Future Data:\\n {features_for_prediction.head()}\")\n"
      ],
      "metadata": {
        "colab": {
          "base_uri": "https://localhost:8080/"
        },
        "id": "_HXzmqbYHPL9",
        "outputId": "981ff63b-54da-464f-87e1-348fa9762b98"
      },
      "execution_count": 96,
      "outputs": [
        {
          "output_type": "stream",
          "name": "stdout",
          "text": [
            "Normalized Future Data:\n",
            "    Year  Month  Composite_HPI  Single_Family_Benchmark  One_Storey_Benchmark  \\\n",
            "0  2024      1          100.0                 257600.0              205000.0   \n",
            "1  2024      2          101.0                 260100.0              207400.0   \n",
            "2  2024      3          102.1                 263000.0              210000.0   \n",
            "3  2024      4          103.1                 265800.0              212700.0   \n",
            "4  2024      5          103.8                 267500.0              214500.0   \n",
            "\n",
            "   Two_Storey_Benchmark  Townhouse_Benchmark  Apartment_Benchmark  \n",
            "0              300000.0             199600.0             172400.0  \n",
            "1              302700.0             201400.0             174600.0  \n",
            "2              305700.0             202900.0             176400.0  \n",
            "3              308600.0             204500.0             177800.0  \n",
            "4              310100.0             205900.0             179500.0  \n"
          ]
        }
      ]
    },
    {
      "cell_type": "markdown",
      "source": [
        "### Predict Outcome"
      ],
      "metadata": {
        "id": "a_YibEsHINFD"
      }
    },
    {
      "cell_type": "code",
      "source": [
        "# Predict future prices\n",
        "future_predictions = final_forest.predict(features_for_prediction)\n",
        "\n",
        "print(future_predictions)\n",
        "\n",
        "# Add predicted prices to future_data\n",
        "future_data['Composite_Benchmark_Predicted'] = future_predictions"
      ],
      "metadata": {
        "colab": {
          "base_uri": "https://localhost:8080/"
        },
        "id": "XUaVLvuzITjf",
        "outputId": "fa2f15e0-26e0-4aee-9f89-c75d00932f78"
      },
      "execution_count": 97,
      "outputs": [
        {
          "output_type": "stream",
          "name": "stdout",
          "text": [
            "[249601.71428571 250682.         252854.28571429 254828.\n",
            " 255924.85714286 257339.14285714 258454.57142857 260357.14285714\n",
            " 263398.         263480.57142857 264072.28571429 264256.85714286\n",
            " 265333.42857143 271202.57142857 275154.28571429 280609.42857143\n",
            " 286185.14285714 287987.14285714 289901.14285714 292596.28571429\n",
            " 293742.85714286 293530.85714286 293487.71428571 293518.\n",
            " 295067.42857143 301101.42857143 305712.57142857 310241.14285714\n",
            " 314595.42857143 319828.28571429 321249.71428571 322486.\n",
            " 323584.57142857 323585.71428571 323296.57142857 322718.\n",
            " 325012.         326951.14285714 329353.42857143 329636.85714286\n",
            " 329494.28571429 328403.42857143 325134.28571429 323168.57142857\n",
            " 321496.85714286 314739.14285714 309426.         302688.57142857\n",
            " 300658.57142857 300086.28571429 300068.85714286 302385.71428571\n",
            " 306378.28571429 310032.57142857 313544.57142857 318530.85714286\n",
            " 321563.42857143 325153.71428571 327458.28571429 328001.42857143\n",
            " 330668.         335984.         339095.71428571 341628.85714286\n",
            " 342878.57142857 341268.         338910.         337362.28571429\n",
            " 336726.         336548.28571429 336531.14285714 336227.71428571\n",
            " 339076.28571429 343910.85714286 350473.14285714 360608.57142857\n",
            " 363428.         364561.42857143 365362.85714286 366391.42857143\n",
            " 366776.28571429 366664.57142857 366771.14285714 366504.85714286\n",
            " 368670.85714286 372580.         376985.71428571 380027.42857143\n",
            " 380933.71428571 379994.         378441.42857143 377013.14285714\n",
            " 375099.42857143 372807.14285714 370774.57142857 369614.28571429\n",
            " 370596.         375790.85714286 378265.42857143 380788.\n",
            " 382676.57142857 383101.42857143 383354.85714286 383611.42857143\n",
            " 384526.57142857 384834.57142857 384936.         384648.28571429\n",
            " 384233.71428571 389585.71428571 396312.85714286 399677.42857143\n",
            " 401253.71428571 402247.42857143 402214.57142857 402427.14285714\n",
            " 403489.14285714 403927.42857143 404501.14285714 404156.85714286]\n"
          ]
        }
      ]
    },
    {
      "cell_type": "markdown",
      "source": [
        "### Graphs"
      ],
      "metadata": {
        "id": "MmZ1Rys8Id9P"
      }
    },
    {
      "cell_type": "code",
      "source": [
        "# Plot the predicted Composite Benchmark prices over time\n",
        "plt.plot(\n",
        "    future_data['Date'],\n",
        "    future_data['Composite_Benchmark_Predicted'],\n",
        "    label='Predicted Prices'\n",
        "    )\n",
        "\n",
        "# Set up the axis\n",
        "plt.xlabel('Year')\n",
        "plt.ylabel('Predicted Prices')\n",
        "plt.title('Next Ten Years Predicted Composite Benchmark Prices')\n",
        "\n",
        "# Make the graph look nice\n",
        "plt.tight_layout()\n",
        "plt.legend()\n",
        "plt.grid(True)\n",
        "\n",
        "# Save the graph for a rainy day\n",
        "plt.savefig('PredictionGraph.svg', format='svg', bbox_inches='tight')\n",
        "\n",
        "# Display the graph to the end user\n",
        "plt.show()"
      ],
      "metadata": {
        "colab": {
          "base_uri": "https://localhost:8080/",
          "height": 487
        },
        "id": "FvB9BpccIgA-",
        "outputId": "6618f4cd-5819-47a5-966b-2a25c2131691"
      },
      "execution_count": 98,
      "outputs": [
        {
          "output_type": "display_data",
          "data": {
            "text/plain": [
              "<Figure size 640x480 with 1 Axes>"
            ],
            "image/png": "[encoded data removed]"
          },
          "metadata": {}
        }
      ]
    }
  ]
}